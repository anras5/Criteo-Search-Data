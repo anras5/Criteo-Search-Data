{
 "cells": [
  {
   "cell_type": "markdown",
   "id": "5e309df1-3252-449b-bc11-28d4c529f979",
   "metadata": {},
   "source": [
    "# CRITEO SPONSORED SEARCH CONVERSION LOG DATASET\n",
    "\n",
    "## WHAT IS THIS NOTEBOOK ABOUT\n",
    "\n",
    "This notebook presents EDA (Exploratory Data Analysis), elements of feature engineering and statistical testing of the \"CRITEO SPONSORED SEARCH CONVERSION LOG DATASET\"\n",
    "\n",
    "## CONTENTS\n",
    "\n",
    "1. [INTRODUCTION](#1.-INTRODUCTION)\n",
    "2. [EXPLORATORY DATA ANALYSIS](#2.-EXPLORATORY-DATA-ANALYSIS)\n",
    "3. [TESTING HYPOTHESES](#3.-TESTING-HYPOTHESES)\n",
    "4. [FEATURE ENGINEERING](#4.-FEATURE-ENGINEERING)\n",
    "5. [STATISTICAL TESTING OF DESCRIPTIVE FEATURES](#5.-STATISTICAL-TESTING-OF-DESCRIPTIVE-FEATURES)\n",
    "6. [PCA](#6.-PCA)\n",
    "7. [SUMMARY](#7.-SUMMARY)\n",
    "8. [LITERATURE](#8.-LITERATURE)\n"
   ]
  },
  {
   "cell_type": "markdown",
   "id": "9238eeea-fc90-4f60-ae1f-f6161f5ac984",
   "metadata": {
    "tags": []
   },
   "source": [
    "# 1. INTRODUCTION"
   ]
  },
  {
   "cell_type": "markdown",
   "id": "92ce1d92-d05b-462d-9c4b-968283ca7bd9",
   "metadata": {
    "tags": []
   },
   "source": [
    "## DESCRIPTION OF THE DATASET\n",
    "\n",
    "Criteo Sponsored Search Conversion Log Dataset contains logs obtained from Criteo Predictive Search.\n",
    "\n",
    "Each row in the dataset represents an action performed by the user on a product related advertisement. \n",
    "\n",
    "### Data description\n",
    "\n",
    "- Sale : Indicates 1 if conversion occurred and 0 if not.\n",
    "- SalesAmountInEuro : Indicates the revenue obtained when a conversion took place. This might be different from product-price, due to attribution issues. It is -1, when no conversion took place.\n",
    "- Time_delay_for_conversion : This indicates the time between click and conversion. It is -1, when no conversion took place.\n",
    "- click_timestamp: Timestamp of the click. The dataset is sorted according to timestamp.\n",
    "- nb_clicks_1week: Number of clicks the product related advertisement has received in the last 1 week.\n",
    "- product_price: Price of the product shown in the advertisement.\n",
    "- product_age_group: The intended user age group of the user, the product is made for.\n",
    "- device_type: This indicates whether it is a returning user or a new user on mobile, tablet or desktop. \n",
    "- audience_id:  We do not disclose the meaning of this feature.\n",
    "- product_gender: The intended gender of the user, the product is made for.\n",
    "- product_brand: Categorical feature about the brand of the product.\n",
    "- product_category(1-7): Categorical features associated to the product. We do not disclose the meaning of these features.\n",
    "- product_country: Country in which the product is sold.\n",
    "- product_id: Unique identifier associated with every product.\n",
    "- product_title: Hashed title of the product.\n",
    "- partner_id: Unique identifier associated with the seller of the product.\n",
    "- user_id: Unique identifier associated with every user.\n",
    "\n",
    "**All categorical features have been hashed**, **-1 is the missing value indicator**\n",
    "\n",
    "For more information about the dataset head over to https://ailab.criteo.com/criteo-sponsored-search-conversion-log-dataset/"
   ]
  },
  {
   "cell_type": "markdown",
   "id": "93fdd08c-c4e0-4a3e-bfe5-6f35cabe48ba",
   "metadata": {},
   "source": [
    "## IMPORTS FOR THE NOTEBOOK"
   ]
  },
  {
   "cell_type": "code",
   "execution_count": 1,
   "id": "52340eed-c2df-4992-989e-e179f8c19921",
   "metadata": {},
   "outputs": [],
   "source": [
    "import os\n",
    "import datetime as dt\n",
    "import numpy as np\n",
    "import pandas as pd\n",
    "import warnings\n",
    "warnings.filterwarnings('ignore')\n",
    "pd.options.display.float_format = '{:.3f}'.format\n",
    "\n",
    "from scipy.stats import moment\n",
    "from scipy.stats import t, norm, shapiro\n",
    "\n",
    "from sklearn.decomposition import PCA\n",
    "from sklearn.preprocessing import LabelEncoder, StandardScaler\n",
    "\n",
    "from matplotlib import pyplot as plt\n",
    "import seaborn as sns\n",
    "\n",
    "from tpot import TPOTRegressor\n",
    "from tpot.export_utils import set_param_recursive\n",
    "import featuretools as ft\n",
    "from woodwork.logical_types import Categorical\n",
    "\n",
    "%matplotlib inline"
   ]
  },
  {
   "cell_type": "markdown",
   "id": "a213a547-c337-4c7e-bd58-86180cc5ee1b",
   "metadata": {},
   "source": [
    "## CONSTANTS\n",
    "Constants that will be used later in the notebook"
   ]
  },
  {
   "cell_type": "code",
   "execution_count": 2,
   "id": "9ac0d41a-b3f1-4521-8db0-d1a521fb6d0d",
   "metadata": {},
   "outputs": [],
   "source": [
    "PARTNER_ID = 'BD01BAFAE73CF38C403978BBB458300C'\n",
    "\n",
    "ALL_COLUMN_NAMES = ['Sale', 'SalesAmountInEuro', 'time_delay_for_conversion', 'click_timestamp',\n",
    "                    'nb_clicks_1week', 'product_price', 'product_age_group', 'device_type',\n",
    "                    'product_gender', 'product_brand','product_category(1)', 'product_category(2)',\n",
    "                    'product_category(3)', 'product_category(4)','product_category(5)',\n",
    "                    'product_category(6)', 'product_category(7)', 'product_country', 'product_id',\n",
    "                    'product_title', 'partner_id', 'user_id']\n",
    "\n",
    "OBJECT_TYPE_COLUMN_NAMES = ['product_age_group', 'device_type','audience_id', 'product_gender', 'product_brand',\n",
    "                       'product_category(1)', 'product_category(2)', 'product_category(3)', 'product_category(4)',\n",
    "                       'product_category(5)', 'product_category(6)', 'product_category(7)',\n",
    "                       'product_country', 'product_id', 'product_title', 'user_id']"
   ]
  },
  {
   "cell_type": "markdown",
   "id": "e4449a7f-1e4f-4fb3-b5a2-36c483fdace0",
   "metadata": {
    "tags": []
   },
   "source": [
    "## CREATE CSV - CHOOSE THE PARTNER_ID\n",
    "\n",
    "The analysis will be performed only for one of many *partner_id* from the dataset. Because the dataset can be considered a big data source, a csv file containing only the information related to chosen ` PARTNER_ID ` has been created."
   ]
  },
  {
   "cell_type": "code",
   "execution_count": 3,
   "id": "b18d113b-675e-422a-b1ed-463a323ae1f5",
   "metadata": {
    "tags": []
   },
   "outputs": [],
   "source": [
    "# %run create_csv_file.py"
   ]
  },
  {
   "cell_type": "markdown",
   "id": "50c87d07-c570-4848-981a-fd9ed5f0330f",
   "metadata": {},
   "source": [
    "## READ CSV"
   ]
  },
  {
   "cell_type": "code",
   "execution_count": 4,
   "id": "f24fde75-b64d-42b8-8180-37e508cb3364",
   "metadata": {},
   "outputs": [],
   "source": [
    "filepath = f\"CriteoSearchData_{PARTNER_ID}.csv\"\n",
    "\n",
    "if os.path.isfile(filepath):\n",
    "    df_raw = pd.read_csv(f\"CriteoSearchData_{PARTNER_ID}.csv\", low_memory=False, usecols=ALL_COLUMN_NAMES)\n",
    "else:\n",
    "    print('Sorry. You have to create an appropriate csv file first.')\n",
    "\n",
    "# drop partner_id column -> same for every row\n",
    "df_raw.drop(labels='partner_id', inplace=True, axis=1)"
   ]
  },
  {
   "cell_type": "markdown",
   "id": "de2961da-2457-487e-bf80-6982c3cbc904",
   "metadata": {},
   "source": [
    "Before performing EDA, let's preprocess the data - handle NaNs and hashed values.\n",
    "\n",
    "First of all let's change all the `-1` values in the dataset to `np.NaN` to indicate a missing value."
   ]
  },
  {
   "cell_type": "markdown",
   "id": "461def10-c248-4c05-8382-6de46ac9ec25",
   "metadata": {},
   "source": [
    "## PREPROCESSING"
   ]
  },
  {
   "cell_type": "code",
   "execution_count": 5,
   "id": "2535cdfe-4c21-4a98-a3b9-16e5bdefcfda",
   "metadata": {},
   "outputs": [],
   "source": [
    "# handle NANs\n",
    "df_nans = df_raw.replace('-1', np.NaN)\n",
    "df_nans.replace(-1, np.NaN, inplace=True)\n",
    "\n",
    "# Filter Sales\n",
    "df_nans_sale_1 = df_nans.query(\"Sale == 1\")"
   ]
  },
  {
   "cell_type": "markdown",
   "id": "9c08cf17-ddda-4d98-828f-8e31ce1fb4fe",
   "metadata": {},
   "source": [
    "Now let's handle the hashed values. First of all let's check datatypes of the columns of `df`"
   ]
  },
  {
   "cell_type": "code",
   "execution_count": 6,
   "id": "15354e8a-bb64-4fb2-a5f1-2a6978312437",
   "metadata": {
    "tags": []
   },
   "outputs": [
    {
     "name": "stdout",
     "output_type": "stream",
     "text": [
      "Sale                           int64\n",
      "SalesAmountInEuro            float64\n",
      "time_delay_for_conversion    float64\n",
      "click_timestamp                int64\n",
      "nb_clicks_1week              float64\n",
      "product_price                float64\n",
      "product_age_group             object\n",
      "device_type                   object\n",
      "product_gender                object\n",
      "product_brand                 object\n",
      "product_category(1)           object\n",
      "product_category(2)           object\n",
      "product_category(3)           object\n",
      "product_category(4)           object\n",
      "product_category(5)           object\n",
      "product_category(6)           object\n",
      "product_category(7)          float64\n",
      "product_country               object\n",
      "product_id                    object\n",
      "product_title                 object\n",
      "user_id                       object\n",
      "dtype: object\n",
      "------------------------------\n",
      "object     14\n",
      "float64     5\n",
      "int64       2\n",
      "dtype: int64\n"
     ]
    }
   ],
   "source": [
    "print(df_nans_sale_1.dtypes)\n",
    "print('-'*30)\n",
    "print(df_nans_sale_1.dtypes.value_counts())"
   ]
  },
  {
   "cell_type": "markdown",
   "id": "5e12b83d-a72d-4a7d-ac9c-705be269d38f",
   "metadata": {},
   "source": [
    "Thanks to this summary we know now that 14 features have `object` type which means they have been hashed. We can simplify every column with `object` type. As long as they are hashed, we do not lose any valuable information (however we will store the original data in a dictionary `encoders`) and what is more - it will simplify the EDA of the dataset later.\n",
    "\n",
    "For example we will transform the `product_gender` column by assigning one number for each category.\n",
    "\n",
    "To achieve this we will use `LabelEncoder` from `sklearn.preprocessing` package."
   ]
  },
  {
   "cell_type": "code",
   "execution_count": 7,
   "id": "12861f19-587b-48cc-afd7-925a49be7415",
   "metadata": {},
   "outputs": [
    {
     "data": {
      "text/html": [
       "<div>\n",
       "<style scoped>\n",
       "    .dataframe tbody tr th:only-of-type {\n",
       "        vertical-align: middle;\n",
       "    }\n",
       "\n",
       "    .dataframe tbody tr th {\n",
       "        vertical-align: top;\n",
       "    }\n",
       "\n",
       "    .dataframe thead th {\n",
       "        text-align: right;\n",
       "    }\n",
       "</style>\n",
       "<table border=\"1\" class=\"dataframe\">\n",
       "  <thead>\n",
       "    <tr style=\"text-align: right;\">\n",
       "      <th></th>\n",
       "      <th>Sale</th>\n",
       "      <th>SalesAmountInEuro</th>\n",
       "      <th>time_delay_for_conversion</th>\n",
       "      <th>click_timestamp</th>\n",
       "      <th>nb_clicks_1week</th>\n",
       "      <th>product_price</th>\n",
       "      <th>product_age_group</th>\n",
       "      <th>device_type</th>\n",
       "      <th>product_gender</th>\n",
       "      <th>product_brand</th>\n",
       "      <th>...</th>\n",
       "      <th>product_category(2)</th>\n",
       "      <th>product_category(3)</th>\n",
       "      <th>product_category(4)</th>\n",
       "      <th>product_category(5)</th>\n",
       "      <th>product_category(6)</th>\n",
       "      <th>product_category(7)</th>\n",
       "      <th>product_country</th>\n",
       "      <th>product_id</th>\n",
       "      <th>product_title</th>\n",
       "      <th>user_id</th>\n",
       "    </tr>\n",
       "  </thead>\n",
       "  <tbody>\n",
       "    <tr>\n",
       "      <th>7</th>\n",
       "      <td>1</td>\n",
       "      <td>119.000</td>\n",
       "      <td>457035.000</td>\n",
       "      <td>1598898651</td>\n",
       "      <td>19.000</td>\n",
       "      <td>119.000</td>\n",
       "      <td>0.000</td>\n",
       "      <td>1</td>\n",
       "      <td>0.000</td>\n",
       "      <td>852.000</td>\n",
       "      <td>...</td>\n",
       "      <td>3.000</td>\n",
       "      <td>15.000</td>\n",
       "      <td>NaN</td>\n",
       "      <td>NaN</td>\n",
       "      <td>NaN</td>\n",
       "      <td>NaN</td>\n",
       "      <td>0</td>\n",
       "      <td>1354</td>\n",
       "      <td>1412.000</td>\n",
       "      <td>2347</td>\n",
       "    </tr>\n",
       "    <tr>\n",
       "      <th>12</th>\n",
       "      <td>1</td>\n",
       "      <td>53.000</td>\n",
       "      <td>457.000</td>\n",
       "      <td>1598919368</td>\n",
       "      <td>3.000</td>\n",
       "      <td>53.000</td>\n",
       "      <td>2.000</td>\n",
       "      <td>0</td>\n",
       "      <td>0.000</td>\n",
       "      <td>659.000</td>\n",
       "      <td>...</td>\n",
       "      <td>13.000</td>\n",
       "      <td>NaN</td>\n",
       "      <td>NaN</td>\n",
       "      <td>NaN</td>\n",
       "      <td>NaN</td>\n",
       "      <td>NaN</td>\n",
       "      <td>0</td>\n",
       "      <td>2179</td>\n",
       "      <td>804.000</td>\n",
       "      <td>1520</td>\n",
       "    </tr>\n",
       "    <tr>\n",
       "      <th>35</th>\n",
       "      <td>1</td>\n",
       "      <td>178.000</td>\n",
       "      <td>101671.000</td>\n",
       "      <td>1598903859</td>\n",
       "      <td>0.000</td>\n",
       "      <td>89.000</td>\n",
       "      <td>0.000</td>\n",
       "      <td>1</td>\n",
       "      <td>2.000</td>\n",
       "      <td>396.000</td>\n",
       "      <td>...</td>\n",
       "      <td>6.000</td>\n",
       "      <td>27.000</td>\n",
       "      <td>NaN</td>\n",
       "      <td>NaN</td>\n",
       "      <td>NaN</td>\n",
       "      <td>NaN</td>\n",
       "      <td>0</td>\n",
       "      <td>317</td>\n",
       "      <td>1010.000</td>\n",
       "      <td>970</td>\n",
       "    </tr>\n",
       "  </tbody>\n",
       "</table>\n",
       "<p>3 rows × 21 columns</p>\n",
       "</div>"
      ],
      "text/plain": [
       "    Sale  SalesAmountInEuro  time_delay_for_conversion  click_timestamp  \\\n",
       "7      1            119.000                 457035.000       1598898651   \n",
       "12     1             53.000                    457.000       1598919368   \n",
       "35     1            178.000                 101671.000       1598903859   \n",
       "\n",
       "    nb_clicks_1week  product_price  product_age_group  device_type  \\\n",
       "7            19.000        119.000              0.000            1   \n",
       "12            3.000         53.000              2.000            0   \n",
       "35            0.000         89.000              0.000            1   \n",
       "\n",
       "    product_gender  product_brand  ...  product_category(2)  \\\n",
       "7            0.000        852.000  ...                3.000   \n",
       "12           0.000        659.000  ...               13.000   \n",
       "35           2.000        396.000  ...                6.000   \n",
       "\n",
       "    product_category(3)  product_category(4)  product_category(5)  \\\n",
       "7                15.000                  NaN                  NaN   \n",
       "12                  NaN                  NaN                  NaN   \n",
       "35               27.000                  NaN                  NaN   \n",
       "\n",
       "    product_category(6)  product_category(7)  product_country  product_id  \\\n",
       "7                   NaN                  NaN                0        1354   \n",
       "12                  NaN                  NaN                0        2179   \n",
       "35                  NaN                  NaN                0         317   \n",
       "\n",
       "    product_title  user_id  \n",
       "7        1412.000     2347  \n",
       "12        804.000     1520  \n",
       "35       1010.000      970  \n",
       "\n",
       "[3 rows x 21 columns]"
      ]
     },
     "execution_count": 7,
     "metadata": {},
     "output_type": "execute_result"
    }
   ],
   "source": [
    "df_nans_encoded = pd.DataFrame()\n",
    "encoders = {}\n",
    "\n",
    "for col in df_nans.columns:\n",
    "    if col in OBJECT_TYPE_COLUMN_NAMES:\n",
    "        encoder = LabelEncoder()\n",
    "        # filter not null values from the column\n",
    "        series_not_null = df_nans_sale_1[col][df_nans_sale_1[col].notnull()]\n",
    "        # transform the values using LabelEncoder\n",
    "        df_nans_encoded[col] = pd.Series(encoder.fit_transform(series_not_null), index=series_not_null.index)\n",
    "        # save the encoder\n",
    "        encoders[col] = encoder\n",
    "    else:\n",
    "        df_nans_encoded[col] = df_nans_sale_1[col]\n",
    "\n",
    "df_nans_encoded.head(3)"
   ]
  },
  {
   "cell_type": "markdown",
   "id": "2a068f5c-096f-4116-a1df-fde8c75c1943",
   "metadata": {},
   "source": [
    "# 2. EXPLORATORY DATA ANALYSIS"
   ]
  },
  {
   "cell_type": "markdown",
   "id": "d8d9dc39-250f-4c09-b25e-b3ed22f058f4",
   "metadata": {
    "tags": []
   },
   "source": [
    "This part of the notebook presents EDA performed on the FINAL DATASET created earlier."
   ]
  },
  {
   "cell_type": "markdown",
   "id": "a16c8d0d-9118-4157-b17b-650ffe1f32ed",
   "metadata": {},
   "source": [
    "## CREATE DATASET FOR EDA"
   ]
  },
  {
   "cell_type": "code",
   "execution_count": 8,
   "id": "6e84c950-018a-49da-8060-69d0e47919e1",
   "metadata": {},
   "outputs": [
    {
     "data": {
      "text/html": [
       "<div>\n",
       "<style scoped>\n",
       "    .dataframe tbody tr th:only-of-type {\n",
       "        vertical-align: middle;\n",
       "    }\n",
       "\n",
       "    .dataframe tbody tr th {\n",
       "        vertical-align: top;\n",
       "    }\n",
       "\n",
       "    .dataframe thead th {\n",
       "        text-align: right;\n",
       "    }\n",
       "</style>\n",
       "<table border=\"1\" class=\"dataframe\">\n",
       "  <thead>\n",
       "    <tr style=\"text-align: right;\">\n",
       "      <th></th>\n",
       "      <th>day</th>\n",
       "      <th>product_id</th>\n",
       "      <th>Sale_size</th>\n",
       "      <th>SalesAmountInEuro_sum</th>\n",
       "      <th>time_delay_for_conversion_mean</th>\n",
       "      <th>nb_clicks_1week_mean</th>\n",
       "      <th>product_price_sum</th>\n",
       "      <th>product_price_mean</th>\n",
       "      <th>product_age_group_mean</th>\n",
       "      <th>device_type_mean</th>\n",
       "      <th>product_gender_mean</th>\n",
       "      <th>product_brand_mean</th>\n",
       "      <th>product_country_mean</th>\n",
       "      <th>time_delay_minutes</th>\n",
       "      <th>time_delay_hours</th>\n",
       "      <th>time_delay_days</th>\n",
       "    </tr>\n",
       "  </thead>\n",
       "  <tbody>\n",
       "    <tr>\n",
       "      <th>0</th>\n",
       "      <td>2020-08-04</td>\n",
       "      <td>1068</td>\n",
       "      <td>2</td>\n",
       "      <td>580.000</td>\n",
       "      <td>57369.000</td>\n",
       "      <td>0.000</td>\n",
       "      <td>290.000</td>\n",
       "      <td>145.000</td>\n",
       "      <td>0.000</td>\n",
       "      <td>0.000</td>\n",
       "      <td>2.000</td>\n",
       "      <td>343.000</td>\n",
       "      <td>0.000</td>\n",
       "      <td>956.150</td>\n",
       "      <td>15.936</td>\n",
       "      <td>0.664</td>\n",
       "    </tr>\n",
       "    <tr>\n",
       "      <th>1</th>\n",
       "      <td>2020-08-04</td>\n",
       "      <td>2326</td>\n",
       "      <td>2</td>\n",
       "      <td>228.000</td>\n",
       "      <td>986.000</td>\n",
       "      <td>0.000</td>\n",
       "      <td>228.000</td>\n",
       "      <td>114.000</td>\n",
       "      <td>0.000</td>\n",
       "      <td>1.000</td>\n",
       "      <td>0.000</td>\n",
       "      <td>379.000</td>\n",
       "      <td>0.000</td>\n",
       "      <td>16.433</td>\n",
       "      <td>0.274</td>\n",
       "      <td>0.011</td>\n",
       "    </tr>\n",
       "    <tr>\n",
       "      <th>2</th>\n",
       "      <td>2020-08-05</td>\n",
       "      <td>19</td>\n",
       "      <td>2</td>\n",
       "      <td>254.000</td>\n",
       "      <td>105006.000</td>\n",
       "      <td>3.000</td>\n",
       "      <td>254.000</td>\n",
       "      <td>127.000</td>\n",
       "      <td>1.000</td>\n",
       "      <td>0.000</td>\n",
       "      <td>2.000</td>\n",
       "      <td>343.000</td>\n",
       "      <td>0.000</td>\n",
       "      <td>1750.100</td>\n",
       "      <td>29.168</td>\n",
       "      <td>1.215</td>\n",
       "    </tr>\n",
       "    <tr>\n",
       "      <th>3</th>\n",
       "      <td>2020-08-05</td>\n",
       "      <td>32</td>\n",
       "      <td>2</td>\n",
       "      <td>178.000</td>\n",
       "      <td>479.000</td>\n",
       "      <td>5.000</td>\n",
       "      <td>178.000</td>\n",
       "      <td>89.000</td>\n",
       "      <td>0.000</td>\n",
       "      <td>0.000</td>\n",
       "      <td>0.000</td>\n",
       "      <td>343.000</td>\n",
       "      <td>0.000</td>\n",
       "      <td>7.983</td>\n",
       "      <td>0.133</td>\n",
       "      <td>0.006</td>\n",
       "    </tr>\n",
       "    <tr>\n",
       "      <th>4</th>\n",
       "      <td>2020-08-05</td>\n",
       "      <td>132</td>\n",
       "      <td>2</td>\n",
       "      <td>194.000</td>\n",
       "      <td>479925.000</td>\n",
       "      <td>1.000</td>\n",
       "      <td>194.000</td>\n",
       "      <td>97.000</td>\n",
       "      <td>0.000</td>\n",
       "      <td>0.000</td>\n",
       "      <td>0.000</td>\n",
       "      <td>105.000</td>\n",
       "      <td>0.000</td>\n",
       "      <td>7998.750</td>\n",
       "      <td>133.312</td>\n",
       "      <td>5.555</td>\n",
       "    </tr>\n",
       "    <tr>\n",
       "      <th>5</th>\n",
       "      <td>2020-08-05</td>\n",
       "      <td>580</td>\n",
       "      <td>2</td>\n",
       "      <td>380.000</td>\n",
       "      <td>1643.000</td>\n",
       "      <td>26.000</td>\n",
       "      <td>380.000</td>\n",
       "      <td>190.000</td>\n",
       "      <td>0.000</td>\n",
       "      <td>0.000</td>\n",
       "      <td>2.000</td>\n",
       "      <td>343.000</td>\n",
       "      <td>0.000</td>\n",
       "      <td>27.383</td>\n",
       "      <td>0.456</td>\n",
       "      <td>0.019</td>\n",
       "    </tr>\n",
       "    <tr>\n",
       "      <th>6</th>\n",
       "      <td>2020-08-05</td>\n",
       "      <td>682</td>\n",
       "      <td>2</td>\n",
       "      <td>250.000</td>\n",
       "      <td>424.000</td>\n",
       "      <td>0.000</td>\n",
       "      <td>190.000</td>\n",
       "      <td>95.000</td>\n",
       "      <td>0.000</td>\n",
       "      <td>0.000</td>\n",
       "      <td>0.000</td>\n",
       "      <td>343.000</td>\n",
       "      <td>0.000</td>\n",
       "      <td>7.067</td>\n",
       "      <td>0.118</td>\n",
       "      <td>0.005</td>\n",
       "    </tr>\n",
       "    <tr>\n",
       "      <th>7</th>\n",
       "      <td>2020-08-05</td>\n",
       "      <td>734</td>\n",
       "      <td>2</td>\n",
       "      <td>300.000</td>\n",
       "      <td>85069.000</td>\n",
       "      <td>0.000</td>\n",
       "      <td>152.000</td>\n",
       "      <td>76.000</td>\n",
       "      <td>0.000</td>\n",
       "      <td>1.000</td>\n",
       "      <td>0.000</td>\n",
       "      <td>707.000</td>\n",
       "      <td>0.000</td>\n",
       "      <td>1417.817</td>\n",
       "      <td>23.630</td>\n",
       "      <td>0.985</td>\n",
       "    </tr>\n",
       "  </tbody>\n",
       "</table>\n",
       "</div>"
      ],
      "text/plain": [
       "          day  product_id  Sale_size  SalesAmountInEuro_sum  \\\n",
       "0  2020-08-04        1068          2                580.000   \n",
       "1  2020-08-04        2326          2                228.000   \n",
       "2  2020-08-05          19          2                254.000   \n",
       "3  2020-08-05          32          2                178.000   \n",
       "4  2020-08-05         132          2                194.000   \n",
       "5  2020-08-05         580          2                380.000   \n",
       "6  2020-08-05         682          2                250.000   \n",
       "7  2020-08-05         734          2                300.000   \n",
       "\n",
       "   time_delay_for_conversion_mean  nb_clicks_1week_mean  product_price_sum  \\\n",
       "0                       57369.000                 0.000            290.000   \n",
       "1                         986.000                 0.000            228.000   \n",
       "2                      105006.000                 3.000            254.000   \n",
       "3                         479.000                 5.000            178.000   \n",
       "4                      479925.000                 1.000            194.000   \n",
       "5                        1643.000                26.000            380.000   \n",
       "6                         424.000                 0.000            190.000   \n",
       "7                       85069.000                 0.000            152.000   \n",
       "\n",
       "   product_price_mean  product_age_group_mean  device_type_mean  \\\n",
       "0             145.000                   0.000             0.000   \n",
       "1             114.000                   0.000             1.000   \n",
       "2             127.000                   1.000             0.000   \n",
       "3              89.000                   0.000             0.000   \n",
       "4              97.000                   0.000             0.000   \n",
       "5             190.000                   0.000             0.000   \n",
       "6              95.000                   0.000             0.000   \n",
       "7              76.000                   0.000             1.000   \n",
       "\n",
       "   product_gender_mean  product_brand_mean  product_country_mean  \\\n",
       "0                2.000             343.000                 0.000   \n",
       "1                0.000             379.000                 0.000   \n",
       "2                2.000             343.000                 0.000   \n",
       "3                0.000             343.000                 0.000   \n",
       "4                0.000             105.000                 0.000   \n",
       "5                2.000             343.000                 0.000   \n",
       "6                0.000             343.000                 0.000   \n",
       "7                0.000             707.000                 0.000   \n",
       "\n",
       "   time_delay_minutes  time_delay_hours  time_delay_days  \n",
       "0             956.150            15.936            0.664  \n",
       "1              16.433             0.274            0.011  \n",
       "2            1750.100            29.168            1.215  \n",
       "3               7.983             0.133            0.006  \n",
       "4            7998.750           133.312            5.555  \n",
       "5              27.383             0.456            0.019  \n",
       "6               7.067             0.118            0.005  \n",
       "7            1417.817            23.630            0.985  "
      ]
     },
     "execution_count": 8,
     "metadata": {},
     "output_type": "execute_result"
    }
   ],
   "source": [
    "df_nans_encoded.click_timestamp = pd.to_datetime(df_nans_encoded.click_timestamp, unit='s', origin='unix')\n",
    "df_nans_encoded['day'] = df_nans_encoded.click_timestamp.dt.date\n",
    "df_eda = df_nans_encoded.groupby(['day', 'product_id']).agg({'Sale' : 'size',\n",
    "                                                         'SalesAmountInEuro': 'sum',\n",
    "                                                         'time_delay_for_conversion': 'mean',\n",
    "                                                         'nb_clicks_1week': 'mean',\n",
    "                                                         'product_price': ['sum', 'mean'],\n",
    "                                                         'product_age_group': 'mean', \n",
    "                                                         'device_type': 'mean', \n",
    "                                                         'product_gender': 'mean',\n",
    "                                                         'product_brand': 'mean', \n",
    "                                                         'product_country': 'mean'})\n",
    "\n",
    "df_eda.reset_index(inplace=True)\n",
    "df_eda.columns = ['_'.join(temp).strip('_') for temp in df_eda.columns.to_flat_index()]\n",
    "df_eda.dropna(subset=['time_delay_for_conversion_mean'], inplace=True)\n",
    "df_eda['time_delay_minutes'] = df_eda.time_delay_for_conversion_mean / 60\n",
    "df_eda['time_delay_hours'] = df_eda.time_delay_minutes / 60\n",
    "df_eda['time_delay_days'] = df_eda.time_delay_hours / 24\n",
    "df_eda.head(8)"
   ]
  },
  {
   "cell_type": "markdown",
   "id": "36cb2eec-0cf0-46f1-a83b-ce6bffd7da6e",
   "metadata": {
    "tags": []
   },
   "source": [
    "## Summary statistics\n",
    "First of all we will calculate statistics for column `product_price_mean`\n",
    "\n",
    "Summary statistics:\n",
    "- Mean\n",
    "- Median\n",
    "- Variance\n",
    "- Standard deviation\n",
    "- Skewness\n",
    "- Kurtosis\n",
    "- 0, 0.25, 0.5, 0.75, 1 Quantiles\n",
    "- IQR"
   ]
  },
  {
   "cell_type": "code",
   "execution_count": 9,
   "id": "b913c09f-2a57-47d0-9925-e3686c8f6b6f",
   "metadata": {},
   "outputs": [
    {
     "data": {
      "text/html": [
       "<div>\n",
       "<style scoped>\n",
       "    .dataframe tbody tr th:only-of-type {\n",
       "        vertical-align: middle;\n",
       "    }\n",
       "\n",
       "    .dataframe tbody tr th {\n",
       "        vertical-align: top;\n",
       "    }\n",
       "\n",
       "    .dataframe thead th {\n",
       "        text-align: right;\n",
       "    }\n",
       "</style>\n",
       "<table border=\"1\" class=\"dataframe\">\n",
       "  <thead>\n",
       "    <tr style=\"text-align: right;\">\n",
       "      <th></th>\n",
       "      <th>product_price_mean</th>\n",
       "    </tr>\n",
       "  </thead>\n",
       "  <tbody>\n",
       "    <tr>\n",
       "      <th>mean</th>\n",
       "      <td>111.103</td>\n",
       "    </tr>\n",
       "    <tr>\n",
       "      <th>median</th>\n",
       "      <td>85.000</td>\n",
       "    </tr>\n",
       "    <tr>\n",
       "      <th>variance</th>\n",
       "      <td>9091.755</td>\n",
       "    </tr>\n",
       "    <tr>\n",
       "      <th>std</th>\n",
       "      <td>95.351</td>\n",
       "    </tr>\n",
       "    <tr>\n",
       "      <th>skewness</th>\n",
       "      <td>2.872</td>\n",
       "    </tr>\n",
       "    <tr>\n",
       "      <th>kurtosis</th>\n",
       "      <td>15.460</td>\n",
       "    </tr>\n",
       "    <tr>\n",
       "      <th>0.0</th>\n",
       "      <td>14.000</td>\n",
       "    </tr>\n",
       "    <tr>\n",
       "      <th>0.25</th>\n",
       "      <td>53.000</td>\n",
       "    </tr>\n",
       "    <tr>\n",
       "      <th>0.5</th>\n",
       "      <td>85.000</td>\n",
       "    </tr>\n",
       "    <tr>\n",
       "      <th>0.75</th>\n",
       "      <td>131.000</td>\n",
       "    </tr>\n",
       "    <tr>\n",
       "      <th>1.0</th>\n",
       "      <td>1040.000</td>\n",
       "    </tr>\n",
       "    <tr>\n",
       "      <th>IQR</th>\n",
       "      <td>78.000</td>\n",
       "    </tr>\n",
       "  </tbody>\n",
       "</table>\n",
       "</div>"
      ],
      "text/plain": [
       "          product_price_mean\n",
       "mean                 111.103\n",
       "median                85.000\n",
       "variance            9091.755\n",
       "std                   95.351\n",
       "skewness               2.872\n",
       "kurtosis              15.460\n",
       "0.0                   14.000\n",
       "0.25                  53.000\n",
       "0.5                   85.000\n",
       "0.75                 131.000\n",
       "1.0                 1040.000\n",
       "IQR                   78.000"
      ]
     },
     "execution_count": 9,
     "metadata": {},
     "output_type": "execute_result"
    }
   ],
   "source": [
    "price = df_eda['product_price_mean']\n",
    "\n",
    "summary_statistics = pd.DataFrame({\n",
    "    'product_price_mean': [price.mean(),\n",
    "                           price.median(),\n",
    "                           price.var(ddof=0),\n",
    "                           price.std(ddof=0),\n",
    "                           moment(price, 3)/(moment(price, 2)**(3/2)),\n",
    "                           moment(price, 4)/(moment(price, 2))**2,\n",
    "                           price.quantile(0),\n",
    "                           price.quantile(0.25),\n",
    "                           price.quantile(0.5),\n",
    "                           price.quantile(0.75),\n",
    "                           price.quantile(1),\n",
    "                           price.quantile(0.75) - price.quantile(0.25)]},\n",
    "    index=['mean', 'median', 'variance', 'std', 'skewness', 'kurtosis', '0.0', '0.25', '0.5', '0.75', '1.0', 'IQR'])\n",
    "\n",
    "summary_statistics"
   ]
  },
  {
   "cell_type": "markdown",
   "id": "533da2d0-e8c3-4ab7-8188-9fc7ff26d212",
   "metadata": {},
   "source": [
    "Thanks to this short summary of the most important descriptive statistics, you can see that the values are close to $ 200-300, but there are also significant outliers."
   ]
  },
  {
   "cell_type": "markdown",
   "id": "04be38e6-8ef3-4873-a408-cf5a697cb427",
   "metadata": {
    "tags": []
   },
   "source": [
    "## Frequency\n",
    "\n",
    "A frequency distribution table is an arrangement of the values that one or more variables take in a sample. Each entry in the table contains the frequency or count of the occurrences of values within a particular group or interval, and in this way, the table summarizes the distribution of values in the sample.\n",
    "\n",
    "\n",
    "The resolution series for the 'product_price_mean' column, which represents the average price for a given product on a given day, is shown below. The whole data series was divided into 25 bins and the number of values in each of them was counted. As you can see, the most values are in the first 3 bins, then the amount gradually decreases. Users are most likely to purchase iteams and products that are between ` $0 ` and ` $150 ` in the price range.\n",
    "\n",
    "The presented division into bins confirms what was observed in the previous point. Most of the values are close together, however there are outliers."
   ]
  },
  {
   "cell_type": "code",
   "execution_count": 10,
   "id": "b10da31c-3fd1-483e-a25a-8914f872d3d0",
   "metadata": {},
   "outputs": [
    {
     "data": {
      "text/plain": [
       "product_price_mean\n",
       "(12.974, 55.04]     721\n",
       "(55.04, 96.08]      827\n",
       "(96.08, 137.12]     471\n",
       "(137.12, 178.16]    221\n",
       "(178.16, 219.2]     137\n",
       "(219.2, 260.24]      76\n",
       "(260.24, 301.28]     58\n",
       "(301.28, 342.32]     29\n",
       "(342.32, 383.36]     33\n",
       "(383.36, 424.4]      11\n",
       "(424.4, 465.44]      11\n",
       "(465.44, 506.48]     12\n",
       "(506.48, 547.52]      2\n",
       "(547.52, 588.56]      5\n",
       "(588.56, 629.6]       5\n",
       "(629.6, 670.64]       5\n",
       "(670.64, 711.68]      3\n",
       "(711.68, 752.72]      2\n",
       "(752.72, 793.76]      1\n",
       "(793.76, 834.8]       0\n",
       "(834.8, 875.84]       0\n",
       "(875.84, 916.88]      0\n",
       "(916.88, 957.92]      0\n",
       "(957.92, 998.96]      0\n",
       "(998.96, 1040.0]      1\n",
       "dtype: int64"
      ]
     },
     "execution_count": 10,
     "metadata": {},
     "output_type": "execute_result"
    }
   ],
   "source": [
    "freq_table = df_eda.groupby(pd.cut(df_eda.product_price_mean, 25)).size()\n",
    "freq_table"
   ]
  },
  {
   "cell_type": "markdown",
   "id": "a76d0a5d-d25c-4191-a2c2-69bcc6f79b15",
   "metadata": {},
   "source": [
    "Thanks to this frequency table, we can observe that there is one extreme outlier. To make further data analysis easier and more transparent (histogram), we will filter it out from the data set."
   ]
  },
  {
   "cell_type": "code",
   "execution_count": 11,
   "id": "af7f7b6e-3a42-4626-bc10-c66a80cb1160",
   "metadata": {},
   "outputs": [],
   "source": [
    "df_eda = df_eda.query(\"product_price_mean < 800\")"
   ]
  },
  {
   "cell_type": "markdown",
   "id": "1ec13f70-df45-4f0c-92c4-99b14c4ed15c",
   "metadata": {},
   "source": [
    "## Histogram"
   ]
  },
  {
   "cell_type": "code",
   "execution_count": 12,
   "id": "f817abd2-3d8e-470f-a999-6296263e6bfa",
   "metadata": {},
   "outputs": [
    {
     "data": {
      "image/png": "[encoded data removed]",
      "text/plain": [
       "<Figure size 1008x720 with 1 Axes>"
      ]
     },
     "metadata": {
      "needs_background": "light"
     },
     "output_type": "display_data"
    }
   ],
   "source": [
    "plt.figure(figsize=(14, 10))\n",
    "\n",
    "sns.set_context('talk')\n",
    "sns.histplot(data=df_eda, x='product_price_mean', bins=30, hue='product_gender_mean', kde=True)\n",
    "plt.title(\"Histogram of the mean of product prices\", fontsize=25)\n",
    "plt.xlabel(\"Product Price mean\", fontsize=15)\n",
    "plt.ylabel(\"Count\", fontsize=15)\n",
    "plt.show()"
   ]
  },
  {
   "cell_type": "markdown",
   "id": "c825bf99-b181-4ef6-a8a3-8e35fb7695a7",
   "metadata": {},
   "source": [
    "The above histogram shows the distribution of the quantity of average product prices divided by the sex of the person making the purchase (hue). We can observe that the graph looks similar for each group. Regardless of gender, most values are in the ` $ 0 ` - ` $ 150 ` range. Users are reluctant to buy more expensive products. As the price increases, the number of values belonging to each bin decreases."
   ]
  },
  {
   "cell_type": "markdown",
   "id": "d797e664-7551-404a-aa4b-22f9b6c004ec",
   "metadata": {},
   "source": [
    "## Box plot"
   ]
  },
  {
   "cell_type": "code",
   "execution_count": 13,
   "id": "6afcb4d3-5af1-46f4-b0e7-b473f925f56d",
   "metadata": {},
   "outputs": [
    {
     "data": {
      "image/png": "[encoded data removed]",
      "text/plain": [
       "<Figure size 1008x720 with 1 Axes>"
      ]
     },
     "metadata": {
      "needs_background": "light"
     },
     "output_type": "display_data"
    }
   ],
   "source": [
    "plt.figure(figsize=(14, 10))\n",
    "\n",
    "sns.set_context(\"talk\")\n",
    "sns.boxplot(x='product_age_group_mean', y='time_delay_days', data=df_eda)\n",
    "plt.title(\"Time delay to purchase in days in age groups\", fontsize=25)\n",
    "plt.xlabel(\"Age groups\", fontsize=15)\n",
    "plt.ylabel(\"Time delay in days\", fontsize=15)\n",
    "plt.show()"
   ]
  },
  {
   "cell_type": "markdown",
   "id": "7023b35d-abb7-4323-8e80-876dd8780144",
   "metadata": {},
   "source": [
    "The above box chart shows the time between clicking on the ad and becoming a customer in the store by purchasing the product. Time is expressed in days. For four of the five groups, the median waiting time is approximately less than a day. For groups no. 0 and no. 1, a lot of outliers can be observed. The group no.3 differs most from the other groups, for which the median of this value is almost 15 days, and also the 1st and 3rd quartiles are significantly different from the other observed groups.\n",
    "\n",
    "\n",
    "Thanks to this chart, it can be concluded that people from group 3 make purchases more responsibly than the rest - they spend more time checking the product and do not make purchases on the spur of the moment.\n",
    "\n",
    "It is also worth checking how many people belong to each group. For this we will use a bar chart."
   ]
  },
  {
   "cell_type": "code",
   "execution_count": 14,
   "id": "6cdeabcb-d0ec-4b14-8049-43c25654c5b7",
   "metadata": {},
   "outputs": [
    {
     "data": {
      "image/png": "[encoded data removed]",
      "text/plain": [
       "<Figure size 1008x720 with 1 Axes>"
      ]
     },
     "metadata": {
      "needs_background": "light"
     },
     "output_type": "display_data"
    }
   ],
   "source": [
    "plt.figure(figsize=(14, 10))\n",
    "\n",
    "sns.set_context(\"talk\")\n",
    "sns.countplot(x='product_age_group_mean', data=df_eda)\n",
    "plt.title(\"Count of people in each of age groups\", fontsize=25)\n",
    "plt.xlabel(\"Age groups\", fontsize=15)\n",
    "plt.ylabel(\"Count\", fontsize=15)\n",
    "plt.show()"
   ]
  },
  {
   "cell_type": "markdown",
   "id": "c9e20230-c343-4c1c-a9cc-3ad4a71b32a5",
   "metadata": {},
   "source": [
    "The bar chart presented above slightly changes the perception of the previous plot - the box plot. It turns out that comparing delay times in different age groups may be a bit unreliable due to the large difference in the number of people in each group. Definitely most people belong to the zero group, and the least to the third group. This may be one of the reasons for the previously observed differences in time between clicking and becoming a customer."
   ]
  },
  {
   "cell_type": "markdown",
   "id": "96485605-81df-4449-b7f6-21e26499aae5",
   "metadata": {},
   "source": [
    "# 3. TESTING HYPOTHESES"
   ]
  },
  {
   "cell_type": "markdown",
   "id": "0e985be9-f239-48aa-9212-5536394f73b0",
   "metadata": {},
   "source": [
    "## Correlation test"
   ]
  },
  {
   "cell_type": "markdown",
   "id": "b2f93fd1-d5a8-488a-8731-981bc8adc4b2",
   "metadata": {},
   "source": [
    "The higher the price of the product, the higher the cost for the user. Hence, the user should consider whether it is really profitable to spend money. So the time between clicking on the ad and buying an item should be longer for more expensive items.\n",
    "\n",
    "The first test to be carried out will therefore be the test for the correlation of the variables time_delay_days and product_price_mean.\n",
    "\n",
    "HYPOTHESES:\n",
    "\n",
    "$ H_0 : \\rho = 0 $\n",
    "\n",
    "$ H_1 : \\rho != 0 $"
   ]
  },
  {
   "cell_type": "code",
   "execution_count": 15,
   "id": "bd1eb62a-d378-46a6-8f5d-51149041c880",
   "metadata": {},
   "outputs": [
    {
     "name": "stdout",
     "output_type": "stream",
     "text": [
      "Covariance: 40.675\n",
      "Correlation: 0.057\n",
      "Critical value: 1.961\n",
      "t value: 2.948\n"
     ]
    }
   ],
   "source": [
    "time = df_eda.time_delay_days\n",
    "price = df_eda.product_price_mean\n",
    "alpha = 0.05\n",
    "n = len(time)\n",
    "\n",
    "covariance = np.cov(time, price, ddof=1)[0, 1]\n",
    "correlation = covariance/(np.std(time, ddof=1)*np.std(price, ddof=1))\n",
    "\n",
    "print(f'Covariance: {covariance:.3f}')\n",
    "print(f'Correlation: {correlation:.3f}')\n",
    "\n",
    "crit_value = t.ppf(1-alpha/2, n-2)\n",
    "T = correlation*np.sqrt(n-2) / np.sqrt(1 - correlation**2)\n",
    "print(f'Critical value: {crit_value:.3f}')\n",
    "print(f't value: {T:.3f}')"
   ]
  },
  {
   "cell_type": "markdown",
   "id": "11824169-3af2-4ec5-8da8-0f4dc9af2396",
   "metadata": {},
   "source": [
    "We can observe that although the correlation is not zero, its value is very close to zero. This means that the linear relationship between these variables is very low. For a better understanding, let's plot these two variables using a scatter plot."
   ]
  },
  {
   "cell_type": "markdown",
   "id": "43e11dd4-a0e7-48b2-b687-5643c2cff00a",
   "metadata": {},
   "source": [
    "### Plot"
   ]
  },
  {
   "cell_type": "code",
   "execution_count": 16,
   "id": "7ffe5a16-9683-41ac-83d1-761f9f0fad75",
   "metadata": {},
   "outputs": [
    {
     "data": {
      "image/png": "[encoded data removed]",
      "text/plain": [
       "<Figure size 1008x720 with 1 Axes>"
      ]
     },
     "metadata": {
      "needs_background": "light"
     },
     "output_type": "display_data"
    }
   ],
   "source": [
    "plt.figure(figsize=(14, 10))\n",
    "\n",
    "sns.set_context(\"talk\")\n",
    "sns.scatterplot(x='time_delay_days', y='product_price_mean', data=df_eda, alpha=0.5)\n",
    "plt.title(\"Product price vs time delay\", fontsize=25)\n",
    "plt.xlabel(\"Time delay in days\", fontsize=15)\n",
    "plt.ylabel(\"Product price\", fontsize=15)\n",
    "plt.show()"
   ]
  },
  {
   "cell_type": "markdown",
   "id": "b1776714-41cd-45bf-8157-77c8ffc0cbe2",
   "metadata": {},
   "source": [
    "The chart clearly shows that, virtually regardless of the price of the product, in most cases the purchase is made immediately."
   ]
  },
  {
   "cell_type": "markdown",
   "id": "411f3bf4-cfd7-4a29-8b1b-2eb03013a868",
   "metadata": {},
   "source": [
    "## Two-Sample test"
   ]
  },
  {
   "cell_type": "markdown",
   "id": "73c6883f-57fc-4597-a4b6-7decb0826eec",
   "metadata": {},
   "source": [
    "The next performed test will be a Two-Sample test. The first sample will be purchases made from August 4, 2020 to September 15, 2020, and the second sample will be purchases made from September 16, 2020 to November 2, 2020. First, we will divide our whole dataset into these two groups.\n",
    "\n",
    "Thanks to this test, we will check whether the every 3 days average purchases in the second period of time were different from the every 3 days average purchases in the first period. For this we will use the 'SalesAmountInEuro_sum' column."
   ]
  },
  {
   "cell_type": "code",
   "execution_count": 17,
   "id": "4e0a3309-4132-4aba-9c69-c81f152ad5e6",
   "metadata": {},
   "outputs": [],
   "source": [
    "# create dataframe with week averages\n",
    "df_two_sample = df_eda[['day', 'SalesAmountInEuro_sum']]\n",
    "df_two_sample.day = pd.to_datetime(df_two_sample.day)\n",
    "df_two_sample.set_index('day', inplace=True)\n",
    "df_week_avg = df_two_sample.groupby(pd.Grouper(freq='3D')).mean()\n",
    "df_week_avg.reset_index(inplace=True)\n",
    "\n",
    "df_sample_1 = df_week_avg[df_week_avg['day'] < dt.datetime(2020, 9, 16)]\n",
    "df_sample_2 = df_week_avg[df_week_avg['day'] >= dt.datetime(2020, 9, 16)]\n",
    "\n",
    "sample_1 = df_sample_1.SalesAmountInEuro_sum\n",
    "sample_2 = df_sample_2.SalesAmountInEuro_sum"
   ]
  },
  {
   "cell_type": "markdown",
   "id": "c2dcfee4-1261-40e7-aab9-88867c3b58e9",
   "metadata": {},
   "source": [
    "To properly perform this test, we must first check that the samples are normally distributed, as this is one of the test's assumptions. For this we will use the Shapiro-Wilk test. We will perform it using the built-in tool from the scipy library.\n",
    "The hypotheses for this test are as follows:\n",
    "\n",
    "$ H_0 $ The sample comes from a normally distributed population\n",
    "\n",
    "$ H_1 $ The sample does not come from a normally distributed population."
   ]
  },
  {
   "cell_type": "code",
   "execution_count": 18,
   "id": "0c119abe-c46d-4874-9463-30c62e984e3e",
   "metadata": {},
   "outputs": [
    {
     "name": "stdout",
     "output_type": "stream",
     "text": [
      "ShapiroResult(statistic=0.94046950340271, pvalue=0.3883109390735626)\n",
      "ShapiroResult(statistic=0.9335607290267944, pvalue=0.2774386405944824)\n"
     ]
    }
   ],
   "source": [
    "print(shapiro(sample_1))\n",
    "print(shapiro(sample_2))"
   ]
  },
  {
   "cell_type": "markdown",
   "id": "d771d0ae-d30b-4c30-8209-6804ef0caba2",
   "metadata": {},
   "source": [
    "With the significance level alpha = 0.05, we can not reject the null hypothesis.\n",
    "\n",
    "So we can proceed to the test of two samples.\n",
    "\n",
    "\n",
    "HYPOTHESES:\n",
    "\n",
    "$ \\mu_1 = \\mu_2 $\n",
    "\n",
    "$ \\mu_1 != \\mu_2 $"
   ]
  },
  {
   "cell_type": "code",
   "execution_count": 19,
   "id": "d8511fea-73a4-4cfe-b5e1-dde5825136a9",
   "metadata": {},
   "outputs": [
    {
     "name": "stdout",
     "output_type": "stream",
     "text": [
      "Z value -3.573\n",
      "Critical values: -1.959963984540054, 1.959963984540054\n"
     ]
    }
   ],
   "source": [
    "alpha = 0.05\n",
    "sample_1 = df_sample_1.SalesAmountInEuro_sum\n",
    "sample_2 = df_sample_2.SalesAmountInEuro_sum\n",
    "\n",
    "n1 = len(sample_1)\n",
    "n2 = len(sample_2)\n",
    "mu1 = np.mean(sample_1)\n",
    "mu2 = np.mean(sample_2)\n",
    "s1_squared = np.var(sample_1, ddof=1)\n",
    "s2_squared = np.var(sample_2, ddof=1)\n",
    "\n",
    "Z = (mu1-mu2)/np.sqrt((s1_squared/n1 + s2_squared/n2))\n",
    "print(f'Z value {Z:.3f}')\n",
    "print(f'Critical values: {-norm.ppf(1-alpha/2)}, {norm.ppf(1-alpha/2)}')"
   ]
  },
  {
   "cell_type": "markdown",
   "id": "a35ad926-6426-4375-a26a-2d4e964c2742",
   "metadata": {},
   "source": [
    "The value of the Z statistic is outside the critical area, so we can reject the null hypothesis and adopt a new hypothesis. This means that the average values of purchases in these two time samples differed from each other.\n",
    "\n",
    "Let's take a look at how the values look on the chart."
   ]
  },
  {
   "cell_type": "markdown",
   "id": "656c8b8f-7072-4e50-b95b-026aa7b13fea",
   "metadata": {},
   "source": [
    "### Plot"
   ]
  },
  {
   "cell_type": "code",
   "execution_count": 20,
   "id": "92085e06-a67a-4687-80d9-5a7a1fc2a14e",
   "metadata": {},
   "outputs": [
    {
     "data": {
      "image/png": "[encoded data removed]",
      "text/plain": [
       "<Figure size 1008x720 with 1 Axes>"
      ]
     },
     "metadata": {
      "needs_background": "light"
     },
     "output_type": "display_data"
    }
   ],
   "source": [
    "plt.figure(figsize=(14, 10))\n",
    "\n",
    "sns.set_context(\"talk\")\n",
    "sns.lineplot(x='day', y='SalesAmountInEuro_sum', data=df_sample_1, label='Sample 1')\n",
    "sns.lineplot(x='day', y='SalesAmountInEuro_sum', data=df_sample_2, label='Sample 2')\n",
    "plt.title(\"Mean revenue for every 3 days in time\", fontsize=25)\n",
    "plt.xlabel(\"Days\", fontsize=15)\n",
    "plt.ylabel(\"Mean revenue\", fontsize=15)\n",
    "\n",
    "plt.show()"
   ]
  },
  {
   "cell_type": "markdown",
   "id": "329a289c-a4a1-4023-8460-410c9bedd751",
   "metadata": {},
   "source": [
    "As we can see, the values in the second sample are significantly different from those in the first sample."
   ]
  },
  {
   "cell_type": "markdown",
   "id": "b263e2a4-3598-4f70-a401-6b99a72b064b",
   "metadata": {},
   "source": [
    "# 4. FEATURE ENGINEERING"
   ]
  },
  {
   "cell_type": "markdown",
   "id": "33e25af3-cf7e-4e2b-87c9-63f2edb3cd81",
   "metadata": {},
   "source": [
    "## Deep Feature Synthesis"
   ]
  },
  {
   "cell_type": "markdown",
   "id": "cbe1406e-b027-4cbb-bc98-37f41ee345f5",
   "metadata": {},
   "source": [
    "The chosen method of feature engineering is Deep Feature Synthesis. It is an algorithm that allows you to automatically generate features in relational data sets. The algorithm follows the relationships in the data set and creates new features based on these relationships. Due to the fact that features are created with the help of previously created ones, each feature has a given depth. For more information head over to the [official documentation](https://featuretools.alteryx.com/en/stable/getting_started/afe.html)."
   ]
  },
  {
   "cell_type": "markdown",
   "id": "e80d51f9-5af7-4c41-8555-3d627e292de9",
   "metadata": {},
   "source": [
    "To use Deep Feature Synthesis we will use dataset `df_nans_encoded` defined before. We will divide it into appropriate smaller datasets, and then connect them with keys. Everything will be done with featuretools package."
   ]
  },
  {
   "cell_type": "markdown",
   "id": "c55e33c0-df5f-4b84-9a73-ca3d5a69aeea",
   "metadata": {},
   "source": [
    "## Creating EntitySet without categorical features"
   ]
  },
  {
   "cell_type": "markdown",
   "id": "91ea8123-a2d3-4d83-aced-8b3ca2b948c5",
   "metadata": {},
   "source": [
    "First, we will create an EntitySet with no categorical variables. EntitySet is a data structure that represents a collection of tables and the connections between them. Let's initiate the EntitySet `es_nc` - entity set non categorical."
   ]
  },
  {
   "cell_type": "code",
   "execution_count": 21,
   "id": "2ab8424a-73c6-40bd-aeee-fee95c0f1e66",
   "metadata": {},
   "outputs": [],
   "source": [
    "es1 = ft.EntitySet(id=PARTNER_ID)"
   ]
  },
  {
   "cell_type": "markdown",
   "id": "4b57f223-2729-4357-9d50-9d1713dbdcd4",
   "metadata": {},
   "source": [
    "### Creating dataframes"
   ]
  },
  {
   "cell_type": "markdown",
   "id": "719f1728-24f0-4ddc-b402-6bdcec925008",
   "metadata": {},
   "source": [
    "Now we need to properly prepare each of the datasets that will be included in the defined EntitySet. There will be 5 such datasets. Corresponding descriptions for each of the datasets are provided in the code."
   ]
  },
  {
   "cell_type": "code",
   "execution_count": 22,
   "id": "ace624f8-66b0-4328-a107-c7ca40a5f4e3",
   "metadata": {},
   "outputs": [],
   "source": [
    "# Products\n",
    "# Each of the products has a price.\n",
    "PRODUCT_INFO_NC = ['product_id', 'product_price']\n",
    "df_products_nc = df_nans_encoded[PRODUCT_INFO_NC]\n",
    "df_products_nc.drop_duplicates(subset=['product_id'], inplace=True)\n",
    "\n",
    "# Days\n",
    "# Each day has the total number of purchased goods,\n",
    "# average and total revenue,\n",
    "# average and total waiting time,\n",
    "# average and total value of sold products\n",
    "df_days_nc = df_nans_encoded.groupby('day').agg({'Sale': 'size',\n",
    "                                                'SalesAmountInEuro': ['mean', 'sum'],\n",
    "                                                'time_delay_for_conversion': ['mean', 'sum'],\n",
    "                                                'product_price': ['mean', 'sum']})\n",
    "df_days_nc.columns = ['_'.join(temp).strip('_') for temp in df_days_nc.columns.to_flat_index()]\n",
    "df_days_nc.reset_index(inplace=True)\n",
    "\n",
    "# Users\n",
    "# Each user has the total number of purchased goods,\n",
    "# average and total revenue,\n",
    "# average and total waiting time,\n",
    "# average and total value of sold products\n",
    "df_users_nc = df_nans_encoded.groupby('user_id').agg({'Sale': 'size',\n",
    "                                                     'SalesAmountInEuro': ['mean', 'sum'],\n",
    "                                                     'time_delay_for_conversion': ['mean', 'sum'],\n",
    "                                                     'product_price': ['mean', 'sum']})\n",
    "df_users_nc.columns = ['_'.join(temp).strip('_') for temp in df_users_nc.columns.to_flat_index()]\n",
    "df_users_nc.reset_index(inplace=True)\n",
    "\n",
    "# Transactions\n",
    "# Each transaction has a day,\n",
    "# product id,\n",
    "# user id,\n",
    "# revenue generated,\n",
    "# waiting time,\n",
    "# exact click time,\n",
    "# average number of clicks for this product per week\n",
    "df_transactions_nc = df_nans_encoded[['day', 'product_id', 'user_id',\n",
    "                                     'SalesAmountInEuro', 'time_delay_for_conversion',\n",
    "                                     'click_timestamp', 'nb_clicks_1week']]\n",
    "df_transactions_nc['transaction_id'] = np.arange(1, len(df_transactions_nc)+1)\n",
    "\n",
    "# Pairs\n",
    "# Clicks for a given product on a given day have been collected in dataset pairs.\n",
    "# The number of such events and the total purchase revenue were calculated for each line.\n",
    "df_days_products_nc = df_nans_encoded.groupby(['day', 'product_id']).agg({'Sale': 'size', 'SalesAmountInEuro': 'sum'})\n",
    "df_days_products_nc.rename({'Sale': 'number_of_sales', 'SalesAmountInEuro': 'SalesAmountInEuro_sum'}, axis=1, inplace=True)\n",
    "df_days_products_nc['pair_id'] = np.arange(1, len(df_days_products_nc)+1)\n",
    "df_days_products_nc.reset_index(inplace=True)"
   ]
  },
  {
   "cell_type": "markdown",
   "id": "b2413562-b2f4-4883-9a17-58d03a389271",
   "metadata": {},
   "source": [
    "### Creating EntitySet from dataframes"
   ]
  },
  {
   "cell_type": "markdown",
   "id": "04545a00-df50-4c01-b816-44f3e9acb498",
   "metadata": {},
   "source": [
    "Now that we have created the appropriate datasets, we are ready to merge them into an EntitySet."
   ]
  },
  {
   "cell_type": "code",
   "execution_count": 23,
   "id": "980a9814-7c48-447f-a972-760f1dce475f",
   "metadata": {},
   "outputs": [
    {
     "data": {
      "image/svg+xml": [
       "<?xml version=\"1.0\" encoding=\"UTF-8\" standalone=\"no\"?>\r\n",
       "<!DOCTYPE svg PUBLIC \"-//W3C//DTD SVG 1.1//EN\"\r\n",
       " \"http://www.w3.org/Graphics/SVG/1.1/DTD/svg11.dtd\">\r\n",
       "<!-- Generated by graphviz version 2.38.0 (20140413.2041)\r\n",
       " -->\r\n",
       "<!-- Title: BD01BAFAE73CF38C403978BBB458300C Pages: 1 -->\r\n",
       "<svg width=\"723pt\" height=\"348pt\"\r\n",
       " viewBox=\"0.00 0.00 723.00 348.00\" xmlns=\"http://www.w3.org/2000/svg\" xmlns:xlink=\"http://www.w3.org/1999/xlink\">\r\n",
       "<g id=\"graph0\" class=\"graph\" transform=\"scale(1 1) rotate(0) translate(4 344)\">\r\n",
       "<title>BD01BAFAE73CF38C403978BBB458300C</title>\r\n",
       "<polygon fill=\"white\" stroke=\"none\" points=\"-4,4 -4,-344 719,-344 719,4 -4,4\"/>\r\n",
       "<!-- transactions -->\r\n",
       "<g id=\"node1\" class=\"node\"><title>transactions</title>\r\n",
       "<polygon fill=\"none\" stroke=\"black\" points=\"252,-188.5 252,-339.5 473,-339.5 473,-188.5 252,-188.5\"/>\r\n",
       "<text text-anchor=\"middle\" x=\"362.5\" y=\"-324.3\" font-family=\"Times New Roman,serif\" font-size=\"14.00\">transactions (5326 rows)</text>\r\n",
       "<polyline fill=\"none\" stroke=\"black\" points=\"252,-316.5 473,-316.5 \"/>\r\n",
       "<text text-anchor=\"start\" x=\"260\" y=\"-301.3\" font-family=\"Times New Roman,serif\" font-size=\"14.00\">day : Datetime; foreign_key</text>\r\n",
       "<text text-anchor=\"start\" x=\"260\" y=\"-286.3\" font-family=\"Times New Roman,serif\" font-size=\"14.00\">product_id : Integer; foreign_key</text>\r\n",
       "<text text-anchor=\"start\" x=\"260\" y=\"-271.3\" font-family=\"Times New Roman,serif\" font-size=\"14.00\">user_id : Integer; foreign_key</text>\r\n",
       "<text text-anchor=\"start\" x=\"260\" y=\"-256.3\" font-family=\"Times New Roman,serif\" font-size=\"14.00\">SalesAmountInEuro : Double</text>\r\n",
       "<text text-anchor=\"start\" x=\"260\" y=\"-241.3\" font-family=\"Times New Roman,serif\" font-size=\"14.00\">time_delay_for_conversion : Double</text>\r\n",
       "<text text-anchor=\"start\" x=\"260\" y=\"-226.3\" font-family=\"Times New Roman,serif\" font-size=\"14.00\">click_timestamp : Datetime</text>\r\n",
       "<text text-anchor=\"start\" x=\"260\" y=\"-211.3\" font-family=\"Times New Roman,serif\" font-size=\"14.00\">nb_clicks_1week : Double</text>\r\n",
       "<text text-anchor=\"start\" x=\"260\" y=\"-196.3\" font-family=\"Times New Roman,serif\" font-size=\"14.00\">transaction_id : Integer; index</text>\r\n",
       "</g>\r\n",
       "<!-- products -->\r\n",
       "<g id=\"node2\" class=\"node\"><title>products</title>\r\n",
       "<polygon fill=\"none\" stroke=\"black\" points=\"275,-45.5 275,-106.5 440,-106.5 440,-45.5 275,-45.5\"/>\r\n",
       "<text text-anchor=\"middle\" x=\"357.5\" y=\"-91.3\" font-family=\"Times New Roman,serif\" font-size=\"14.00\">products (2409 rows)</text>\r\n",
       "<polyline fill=\"none\" stroke=\"black\" points=\"275,-83.5 440,-83.5 \"/>\r\n",
       "<text text-anchor=\"start\" x=\"283\" y=\"-68.3\" font-family=\"Times New Roman,serif\" font-size=\"14.00\">product_id : Integer; index</text>\r\n",
       "<text text-anchor=\"start\" x=\"283\" y=\"-53.3\" font-family=\"Times New Roman,serif\" font-size=\"14.00\">product_price : Double</text>\r\n",
       "</g>\r\n",
       "<!-- transactions&#45;&gt;products -->\r\n",
       "<g id=\"edge1\" class=\"edge\"><title>transactions&#45;&gt;products</title>\r\n",
       "<path fill=\"none\" stroke=\"black\" d=\"M385,-188.346C385,-188.346 385,-116.699 385,-116.699\"/>\r\n",
       "<polygon fill=\"black\" stroke=\"black\" points=\"388.5,-116.699 385,-106.699 381.5,-116.699 388.5,-116.699\"/>\r\n",
       "<text text-anchor=\"middle\" x=\"353.5\" y=\"-156.323\" font-family=\"Times New Roman,serif\" font-size=\"14.00\">product_id</text>\r\n",
       "</g>\r\n",
       "<!-- users -->\r\n",
       "<g id=\"node3\" class=\"node\"><title>users</title>\r\n",
       "<polygon fill=\"none\" stroke=\"black\" points=\"458,-0.5 458,-151.5 715,-151.5 715,-0.5 458,-0.5\"/>\r\n",
       "<text text-anchor=\"middle\" x=\"586.5\" y=\"-136.3\" font-family=\"Times New Roman,serif\" font-size=\"14.00\">users (2515 rows)</text>\r\n",
       "<polyline fill=\"none\" stroke=\"black\" points=\"458,-128.5 715,-128.5 \"/>\r\n",
       "<text text-anchor=\"start\" x=\"466\" y=\"-113.3\" font-family=\"Times New Roman,serif\" font-size=\"14.00\">user_id : Integer; index</text>\r\n",
       "<text text-anchor=\"start\" x=\"466\" y=\"-98.3\" font-family=\"Times New Roman,serif\" font-size=\"14.00\">Sale_size : Integer</text>\r\n",
       "<text text-anchor=\"start\" x=\"466\" y=\"-83.3\" font-family=\"Times New Roman,serif\" font-size=\"14.00\">SalesAmountInEuro_mean : Double</text>\r\n",
       "<text text-anchor=\"start\" x=\"466\" y=\"-68.3\" font-family=\"Times New Roman,serif\" font-size=\"14.00\">SalesAmountInEuro_sum : Double</text>\r\n",
       "<text text-anchor=\"start\" x=\"466\" y=\"-53.3\" font-family=\"Times New Roman,serif\" font-size=\"14.00\">time_delay_for_conversion_mean : Double</text>\r\n",
       "<text text-anchor=\"start\" x=\"466\" y=\"-38.3\" font-family=\"Times New Roman,serif\" font-size=\"14.00\">time_delay_for_conversion_sum : Double</text>\r\n",
       "<text text-anchor=\"start\" x=\"466\" y=\"-23.3\" font-family=\"Times New Roman,serif\" font-size=\"14.00\">product_price_mean : Double</text>\r\n",
       "<text text-anchor=\"start\" x=\"466\" y=\"-8.3\" font-family=\"Times New Roman,serif\" font-size=\"14.00\">product_price_sum : Double</text>\r\n",
       "</g>\r\n",
       "<!-- transactions&#45;&gt;users -->\r\n",
       "<g id=\"edge2\" class=\"edge\"><title>transactions&#45;&gt;users</title>\r\n",
       "<path fill=\"none\" stroke=\"black\" d=\"M465.5,-188.346C465.5,-188.346 465.5,-161.805 465.5,-161.805\"/>\r\n",
       "<polygon fill=\"black\" stroke=\"black\" points=\"469,-161.805 465.5,-151.805 462,-161.805 469,-161.805\"/>\r\n",
       "<text text-anchor=\"middle\" x=\"444.5\" y=\"-163.876\" font-family=\"Times New Roman,serif\" font-size=\"14.00\">user_id</text>\r\n",
       "</g>\r\n",
       "<!-- days -->\r\n",
       "<g id=\"node4\" class=\"node\"><title>days</title>\r\n",
       "<polygon fill=\"none\" stroke=\"black\" points=\"0,-0.5 0,-151.5 257,-151.5 257,-0.5 0,-0.5\"/>\r\n",
       "<text text-anchor=\"middle\" x=\"128.5\" y=\"-136.3\" font-family=\"Times New Roman,serif\" font-size=\"14.00\">days (91 rows)</text>\r\n",
       "<polyline fill=\"none\" stroke=\"black\" points=\"0,-128.5 257,-128.5 \"/>\r\n",
       "<text text-anchor=\"start\" x=\"8\" y=\"-113.3\" font-family=\"Times New Roman,serif\" font-size=\"14.00\">day : Datetime; index</text>\r\n",
       "<text text-anchor=\"start\" x=\"8\" y=\"-98.3\" font-family=\"Times New Roman,serif\" font-size=\"14.00\">Sale_size : Integer</text>\r\n",
       "<text text-anchor=\"start\" x=\"8\" y=\"-83.3\" font-family=\"Times New Roman,serif\" font-size=\"14.00\">SalesAmountInEuro_mean : Double</text>\r\n",
       "<text text-anchor=\"start\" x=\"8\" y=\"-68.3\" font-family=\"Times New Roman,serif\" font-size=\"14.00\">SalesAmountInEuro_sum : Double</text>\r\n",
       "<text text-anchor=\"start\" x=\"8\" y=\"-53.3\" font-family=\"Times New Roman,serif\" font-size=\"14.00\">time_delay_for_conversion_mean : Double</text>\r\n",
       "<text text-anchor=\"start\" x=\"8\" y=\"-38.3\" font-family=\"Times New Roman,serif\" font-size=\"14.00\">time_delay_for_conversion_sum : Double</text>\r\n",
       "<text text-anchor=\"start\" x=\"8\" y=\"-23.3\" font-family=\"Times New Roman,serif\" font-size=\"14.00\">product_price_mean : Double</text>\r\n",
       "<text text-anchor=\"start\" x=\"8\" y=\"-8.3\" font-family=\"Times New Roman,serif\" font-size=\"14.00\">product_price_sum : Double</text>\r\n",
       "</g>\r\n",
       "<!-- transactions&#45;&gt;days -->\r\n",
       "<g id=\"edge3\" class=\"edge\"><title>transactions&#45;&gt;days</title>\r\n",
       "<path fill=\"none\" stroke=\"black\" d=\"M251.982,-199C246.372,-199 243,-199 243,-199 243,-199 243,-161.797 243,-161.797\"/>\r\n",
       "<polygon fill=\"black\" stroke=\"black\" points=\"246.5,-161.797 243,-151.797 239.5,-161.797 246.5,-161.797\"/>\r\n",
       "<text text-anchor=\"middle\" x=\"232.5\" y=\"-188.689\" font-family=\"Times New Roman,serif\" font-size=\"14.00\">day</text>\r\n",
       "</g>\r\n",
       "<!-- pairs -->\r\n",
       "<g id=\"node5\" class=\"node\"><title>pairs</title>\r\n",
       "<polygon fill=\"none\" stroke=\"black\" points=\"23,-211 23,-317 234,-317 234,-211 23,-211\"/>\r\n",
       "<text text-anchor=\"middle\" x=\"128.5\" y=\"-301.8\" font-family=\"Times New Roman,serif\" font-size=\"14.00\">pairs (2642 rows)</text>\r\n",
       "<polyline fill=\"none\" stroke=\"black\" points=\"23,-294 234,-294 \"/>\r\n",
       "<text text-anchor=\"start\" x=\"31\" y=\"-278.8\" font-family=\"Times New Roman,serif\" font-size=\"14.00\">day : Datetime; foreign_key</text>\r\n",
       "<text text-anchor=\"start\" x=\"31\" y=\"-263.8\" font-family=\"Times New Roman,serif\" font-size=\"14.00\">product_id : Integer; foreign_key</text>\r\n",
       "<text text-anchor=\"start\" x=\"31\" y=\"-248.8\" font-family=\"Times New Roman,serif\" font-size=\"14.00\">number_of_sales : Integer</text>\r\n",
       "<text text-anchor=\"start\" x=\"31\" y=\"-233.8\" font-family=\"Times New Roman,serif\" font-size=\"14.00\">SalesAmountInEuro_sum : Double</text>\r\n",
       "<text text-anchor=\"start\" x=\"31\" y=\"-218.8\" font-family=\"Times New Roman,serif\" font-size=\"14.00\">pair_id : Integer; index</text>\r\n",
       "</g>\r\n",
       "<!-- pairs&#45;&gt;products -->\r\n",
       "<g id=\"edge5\" class=\"edge\"><title>pairs&#45;&gt;products</title>\r\n",
       "<path fill=\"none\" stroke=\"black\" d=\"M163.667,-210.956C163.667,-189.634 163.667,-170 163.667,-170 163.667,-170 330,-170 330,-170 330,-170 330,-116.519 330,-116.519\"/>\r\n",
       "<polygon fill=\"black\" stroke=\"black\" points=\"333.5,-116.519 330,-106.519 326.5,-116.519 333.5,-116.519\"/>\r\n",
       "<text text-anchor=\"middle\" x=\"221.596\" y=\"-158.8\" font-family=\"Times New Roman,serif\" font-size=\"14.00\">product_id</text>\r\n",
       "</g>\r\n",
       "<!-- pairs&#45;&gt;days -->\r\n",
       "<g id=\"edge4\" class=\"edge\"><title>pairs&#45;&gt;days</title>\r\n",
       "<path fill=\"none\" stroke=\"black\" d=\"M93.3333,-210.881C93.3333,-210.881 93.3333,-161.789 93.3333,-161.789\"/>\r\n",
       "<polygon fill=\"black\" stroke=\"black\" points=\"96.8334,-161.789 93.3333,-151.789 89.8334,-161.789 96.8334,-161.789\"/>\r\n",
       "<text text-anchor=\"middle\" x=\"82.8333\" y=\"-190.135\" font-family=\"Times New Roman,serif\" font-size=\"14.00\">day</text>\r\n",
       "</g>\r\n",
       "</g>\r\n",
       "</svg>\r\n"
      ],
      "text/plain": [
       "<graphviz.dot.Digraph at 0x1a4569967f0>"
      ]
     },
     "execution_count": 23,
     "metadata": {},
     "output_type": "execute_result"
    }
   ],
   "source": [
    "es1 = es1.add_dataframe(\n",
    "    dataframe_name=\"transactions\",\n",
    "    dataframe=df_transactions_nc,\n",
    "    index=\"transaction_id\", # The index parameter specifies the column that uniquely identifies rows in the dataframe\n",
    ")\n",
    "\n",
    "es1 = es1.add_dataframe(\n",
    "    dataframe_name=\"products\",\n",
    "    dataframe=df_products_nc,\n",
    "    index=\"product_id\",\n",
    ")\n",
    "\n",
    "es1 = es1.add_dataframe(\n",
    "    dataframe_name=\"users\",\n",
    "    dataframe=df_users_nc,\n",
    "    index='user_id'\n",
    ")\n",
    "\n",
    "es1 = es1.add_dataframe(\n",
    "    dataframe_name=\"days\",\n",
    "    dataframe=df_days_nc,\n",
    "    index='day'\n",
    ")\n",
    "\n",
    "es1 = es1.add_dataframe(\n",
    "    dataframe_name=\"pairs\",\n",
    "    dataframe=df_days_products_nc,\n",
    "    index='pair_id'\n",
    ")\n",
    "\n",
    "es1 = es1.add_relationship(\"products\", \"product_id\", \"transactions\", \"product_id\")\n",
    "es1 = es1.add_relationship(\"users\", \"user_id\", \"transactions\", \"user_id\")\n",
    "es1 = es1.add_relationship(\"days\", \"day\", \"transactions\", \"day\")\n",
    "es1 = es1.add_relationship(\"days\", \"day\", \"pairs\", \"day\")\n",
    "es1 = es1.add_relationship(\"products\", \"product_id\", \"pairs\", \"product_id\")\n",
    "\n",
    "es1.plot()"
   ]
  },
  {
   "cell_type": "markdown",
   "id": "bf993f60-e638-4ec3-bb37-d6ce25ab1aa1",
   "metadata": {},
   "source": [
    "## DFS for EntitySet without categorical features"
   ]
  },
  {
   "cell_type": "markdown",
   "id": "2edb7c22-4289-4961-8c41-1b17423f7203",
   "metadata": {},
   "source": [
    "After creating the EntitySet, we can start using the Deep Feature Synthesis algorithm.\n",
    "\n",
    "Thanks to the featuretools package it is easy to do. Through the `target_dataframe_name` argument, we define for which table we want to calculate additional features.\n",
    "\n",
    "Thanks to the magic `%time` command, we will be able to measure the execution time of the algorithm. The greater the value of the `max_depth` argument, the longer it takes to execute."
   ]
  },
  {
   "cell_type": "code",
   "execution_count": 24,
   "id": "3eb50a46-3e63-4af5-9b2d-fb50eee93000",
   "metadata": {},
   "outputs": [],
   "source": [
    "# %%time\n",
    "# feature_matrix, feature_defs = ft.dfs(entityset=es1,\n",
    "#                                       target_dataframe_name=\"pairs\",\n",
    "#                                       max_depth=5)\n",
    "# feature_matrix"
   ]
  },
  {
   "cell_type": "markdown",
   "id": "58052c46-0fd1-4692-9588-429b6f11d0e0",
   "metadata": {},
   "source": [
    "Let's save the created feature_matrix to a csv file."
   ]
  },
  {
   "cell_type": "code",
   "execution_count": 25,
   "id": "3eba41ed-0f7d-4595-8f63-55b66ecd58a6",
   "metadata": {},
   "outputs": [],
   "source": [
    "# feature_matrix.to_csv(f'FeatureMatrixNoCategorical_{PARTNER_ID}.csv')"
   ]
  },
  {
   "cell_type": "markdown",
   "id": "0530249e-96ab-4d60-8742-f846872506f8",
   "metadata": {
    "tags": []
   },
   "source": [
    "## Create EntitySet with categorical features"
   ]
  },
  {
   "cell_type": "markdown",
   "id": "3b96d6a7-4aea-4948-a725-88945abad6e5",
   "metadata": {},
   "source": [
    "Now we will perform operations similar to those in the previous points, but also using categorical variables.\n",
    "\n",
    "We'll start by defining a new EntitySet."
   ]
  },
  {
   "cell_type": "code",
   "execution_count": 26,
   "id": "2f58ad8f-74ef-4247-b7d4-1d27479c3cc6",
   "metadata": {},
   "outputs": [],
   "source": [
    "es2 = ft.EntitySet(id=PARTNER_ID)"
   ]
  },
  {
   "cell_type": "markdown",
   "id": "0dd89028-b753-4cb9-a15c-949f99159f91",
   "metadata": {},
   "source": [
    "### Creating dataframes"
   ]
  },
  {
   "cell_type": "markdown",
   "id": "93459861-86b0-4a8f-a4ae-475511de6a62",
   "metadata": {},
   "source": [
    "Dataframes will look in the same way as before - except for `products`"
   ]
  },
  {
   "cell_type": "code",
   "execution_count": 27,
   "id": "917d5149-ba02-46ae-b27b-4f27910eb7de",
   "metadata": {},
   "outputs": [],
   "source": [
    "# Products\n",
    "PRODUCT_INFO = ['product_age_group', 'device_type', 'product_gender', 'product_brand',\n",
    "                'product_category(1)', 'product_category(2)', 'product_category(3)', 'product_category(4)',\n",
    "                'product_category(5)', 'product_category(6)', 'product_category(7)',\n",
    "                'product_country', 'product_id', 'product_title', 'product_price']\n",
    "df_products = df_nans_encoded[PRODUCT_INFO]\n",
    "df_products.drop_duplicates(subset=['product_id'], inplace=True)\n",
    "\n",
    "# Days\n",
    "df_days = df_nans_encoded.groupby('day').agg({'Sale': 'size',\n",
    "                                              'SalesAmountInEuro': ['mean', 'sum'],\n",
    "                                              'time_delay_for_conversion': ['mean', 'sum'],\n",
    "                                              'product_price': ['mean', 'sum']})\n",
    "df_days.columns = ['_'.join(temp).strip('_') for temp in df_days.columns.to_flat_index()]\n",
    "df_days.reset_index(inplace=True)\n",
    "\n",
    "# Users\n",
    "df_users = df_nans_encoded.groupby('user_id').agg({'Sale': 'size',\n",
    "                                                   'SalesAmountInEuro': ['mean', 'sum'],\n",
    "                                                   'time_delay_for_conversion': ['mean', 'sum'],\n",
    "                                                   'product_price': ['mean', 'sum']})\n",
    "df_users.columns = ['_'.join(temp).strip('_') for temp in df_users.columns.to_flat_index()]\n",
    "df_users.reset_index(inplace=True)\n",
    "\n",
    "# Transactions\n",
    "df_transactions = df_nans_encoded[['day', 'product_id', 'user_id',\n",
    "                                   'SalesAmountInEuro', 'time_delay_for_conversion',\n",
    "                                   'click_timestamp', 'nb_clicks_1week']]\n",
    "df_transactions['transaction_id'] = np.arange(1, len(df_transactions)+1)\n",
    "\n",
    "# Pairs\n",
    "df_days_products = df_nans_encoded.groupby(['day', 'product_id']).agg({'Sale': 'size',\n",
    "                                                                       'SalesAmountInEuro': 'sum'})\n",
    "df_days_products.rename({'Sale': 'number_of_sales',\n",
    "                         'SalesAmountInEuro': 'SalesAmountInEuro_sum'},\n",
    "                        axis=1,\n",
    "                        inplace=True)\n",
    "df_days_products['pair_id'] = np.arange(1, len(df_days_products)+1)\n",
    "df_days_products.reset_index(inplace=True)"
   ]
  },
  {
   "cell_type": "markdown",
   "id": "30ce0b05-56b4-4da5-be06-9bbd32e88a3d",
   "metadata": {},
   "source": [
    "In order for the qualitative data to be correctly taken into account when carrying out the DFS algorithm, it will be necessary to give them a special Categorical type defined in the woodwork package"
   ]
  },
  {
   "cell_type": "code",
   "execution_count": 28,
   "id": "98a26aa0-6397-4333-99ff-9a831d196577",
   "metadata": {},
   "outputs": [
    {
     "data": {
      "image/svg+xml": [
       "<?xml version=\"1.0\" encoding=\"UTF-8\" standalone=\"no\"?>\r\n",
       "<!DOCTYPE svg PUBLIC \"-//W3C//DTD SVG 1.1//EN\"\r\n",
       " \"http://www.w3.org/Graphics/SVG/1.1/DTD/svg11.dtd\">\r\n",
       "<!-- Generated by graphviz version 2.38.0 (20140413.2041)\r\n",
       " -->\r\n",
       "<!-- Title: BD01BAFAE73CF38C403978BBB458300C Pages: 1 -->\r\n",
       "<svg width=\"765pt\" height=\"453pt\"\r\n",
       " viewBox=\"0.00 0.00 765.00 453.00\" xmlns=\"http://www.w3.org/2000/svg\" xmlns:xlink=\"http://www.w3.org/1999/xlink\">\r\n",
       "<g id=\"graph0\" class=\"graph\" transform=\"scale(1 1) rotate(0) translate(4 449)\">\r\n",
       "<title>BD01BAFAE73CF38C403978BBB458300C</title>\r\n",
       "<polygon fill=\"white\" stroke=\"none\" points=\"-4,4 -4,-449 761,-449 761,4 -4,4\"/>\r\n",
       "<!-- transactions -->\r\n",
       "<g id=\"node1\" class=\"node\"><title>transactions</title>\r\n",
       "<polygon fill=\"none\" stroke=\"black\" points=\"265.5,-293.5 265.5,-444.5 491.5,-444.5 491.5,-293.5 265.5,-293.5\"/>\r\n",
       "<text text-anchor=\"middle\" x=\"378.5\" y=\"-429.3\" font-family=\"Times New Roman,serif\" font-size=\"14.00\">transactions (5326 rows)</text>\r\n",
       "<polyline fill=\"none\" stroke=\"black\" points=\"265.5,-421.5 491.5,-421.5 \"/>\r\n",
       "<text text-anchor=\"start\" x=\"273.5\" y=\"-406.3\" font-family=\"Times New Roman,serif\" font-size=\"14.00\">day : Datetime; foreign_key</text>\r\n",
       "<text text-anchor=\"start\" x=\"273.5\" y=\"-391.3\" font-family=\"Times New Roman,serif\" font-size=\"14.00\">product_id : Categorical; foreign_key</text>\r\n",
       "<text text-anchor=\"start\" x=\"273.5\" y=\"-376.3\" font-family=\"Times New Roman,serif\" font-size=\"14.00\">user_id : Categorical; foreign_key</text>\r\n",
       "<text text-anchor=\"start\" x=\"273.5\" y=\"-361.3\" font-family=\"Times New Roman,serif\" font-size=\"14.00\">SalesAmountInEuro : Double</text>\r\n",
       "<text text-anchor=\"start\" x=\"273.5\" y=\"-346.3\" font-family=\"Times New Roman,serif\" font-size=\"14.00\">time_delay_for_conversion : Double</text>\r\n",
       "<text text-anchor=\"start\" x=\"273.5\" y=\"-331.3\" font-family=\"Times New Roman,serif\" font-size=\"14.00\">click_timestamp : Datetime</text>\r\n",
       "<text text-anchor=\"start\" x=\"273.5\" y=\"-316.3\" font-family=\"Times New Roman,serif\" font-size=\"14.00\">nb_clicks_1week : Double</text>\r\n",
       "<text text-anchor=\"start\" x=\"273.5\" y=\"-301.3\" font-family=\"Times New Roman,serif\" font-size=\"14.00\">transaction_id : Integer; index</text>\r\n",
       "</g>\r\n",
       "<!-- products -->\r\n",
       "<g id=\"node2\" class=\"node\"><title>products</title>\r\n",
       "<polygon fill=\"none\" stroke=\"black\" points=\"275.5,-0.5 275.5,-256.5 481.5,-256.5 481.5,-0.5 275.5,-0.5\"/>\r\n",
       "<text text-anchor=\"middle\" x=\"378.5\" y=\"-241.3\" font-family=\"Times New Roman,serif\" font-size=\"14.00\">products (2409 rows)</text>\r\n",
       "<polyline fill=\"none\" stroke=\"black\" points=\"275.5,-233.5 481.5,-233.5 \"/>\r\n",
       "<text text-anchor=\"start\" x=\"283.5\" y=\"-218.3\" font-family=\"Times New Roman,serif\" font-size=\"14.00\">product_age_group : Categorical</text>\r\n",
       "<text text-anchor=\"start\" x=\"283.5\" y=\"-203.3\" font-family=\"Times New Roman,serif\" font-size=\"14.00\">device_type : Categorical</text>\r\n",
       "<text text-anchor=\"start\" x=\"283.5\" y=\"-188.3\" font-family=\"Times New Roman,serif\" font-size=\"14.00\">product_gender : Categorical</text>\r\n",
       "<text text-anchor=\"start\" x=\"283.5\" y=\"-173.3\" font-family=\"Times New Roman,serif\" font-size=\"14.00\">product_brand : Categorical</text>\r\n",
       "<text text-anchor=\"start\" x=\"283.5\" y=\"-158.3\" font-family=\"Times New Roman,serif\" font-size=\"14.00\">product_category(1) : Categorical</text>\r\n",
       "<text text-anchor=\"start\" x=\"283.5\" y=\"-143.3\" font-family=\"Times New Roman,serif\" font-size=\"14.00\">product_category(2) : Categorical</text>\r\n",
       "<text text-anchor=\"start\" x=\"283.5\" y=\"-128.3\" font-family=\"Times New Roman,serif\" font-size=\"14.00\">product_category(3) : Categorical</text>\r\n",
       "<text text-anchor=\"start\" x=\"283.5\" y=\"-113.3\" font-family=\"Times New Roman,serif\" font-size=\"14.00\">product_category(4) : Categorical</text>\r\n",
       "<text text-anchor=\"start\" x=\"283.5\" y=\"-98.3\" font-family=\"Times New Roman,serif\" font-size=\"14.00\">product_category(5) : Categorical</text>\r\n",
       "<text text-anchor=\"start\" x=\"283.5\" y=\"-83.3\" font-family=\"Times New Roman,serif\" font-size=\"14.00\">product_category(6) : Categorical</text>\r\n",
       "<text text-anchor=\"start\" x=\"283.5\" y=\"-68.3\" font-family=\"Times New Roman,serif\" font-size=\"14.00\">product_category(7) : Categorical</text>\r\n",
       "<text text-anchor=\"start\" x=\"283.5\" y=\"-53.3\" font-family=\"Times New Roman,serif\" font-size=\"14.00\">product_country : Categorical</text>\r\n",
       "<text text-anchor=\"start\" x=\"283.5\" y=\"-38.3\" font-family=\"Times New Roman,serif\" font-size=\"14.00\">product_id : Categorical; index</text>\r\n",
       "<text text-anchor=\"start\" x=\"283.5\" y=\"-23.3\" font-family=\"Times New Roman,serif\" font-size=\"14.00\">product_title : Categorical</text>\r\n",
       "<text text-anchor=\"start\" x=\"283.5\" y=\"-8.3\" font-family=\"Times New Roman,serif\" font-size=\"14.00\">product_price : Double</text>\r\n",
       "</g>\r\n",
       "<!-- transactions&#45;&gt;products -->\r\n",
       "<g id=\"edge1\" class=\"edge\"><title>transactions&#45;&gt;products</title>\r\n",
       "<path fill=\"none\" stroke=\"black\" d=\"M378.5,-293.234C378.5,-293.234 378.5,-266.701 378.5,-266.701\"/>\r\n",
       "<polygon fill=\"black\" stroke=\"black\" points=\"382,-266.701 378.5,-256.701 375,-266.701 382,-266.701\"/>\r\n",
       "<text text-anchor=\"middle\" x=\"347\" y=\"-268.768\" font-family=\"Times New Roman,serif\" font-size=\"14.00\">product_id</text>\r\n",
       "</g>\r\n",
       "<!-- users -->\r\n",
       "<g id=\"node3\" class=\"node\"><title>users</title>\r\n",
       "<polygon fill=\"none\" stroke=\"black\" points=\"500,-53 500,-204 757,-204 757,-53 500,-53\"/>\r\n",
       "<text text-anchor=\"middle\" x=\"628.5\" y=\"-188.8\" font-family=\"Times New Roman,serif\" font-size=\"14.00\">users (2515 rows)</text>\r\n",
       "<polyline fill=\"none\" stroke=\"black\" points=\"500,-181 757,-181 \"/>\r\n",
       "<text text-anchor=\"start\" x=\"508\" y=\"-165.8\" font-family=\"Times New Roman,serif\" font-size=\"14.00\">user_id : Categorical; index</text>\r\n",
       "<text text-anchor=\"start\" x=\"508\" y=\"-150.8\" font-family=\"Times New Roman,serif\" font-size=\"14.00\">Sale_size : Integer</text>\r\n",
       "<text text-anchor=\"start\" x=\"508\" y=\"-135.8\" font-family=\"Times New Roman,serif\" font-size=\"14.00\">SalesAmountInEuro_mean : Double</text>\r\n",
       "<text text-anchor=\"start\" x=\"508\" y=\"-120.8\" font-family=\"Times New Roman,serif\" font-size=\"14.00\">SalesAmountInEuro_sum : Double</text>\r\n",
       "<text text-anchor=\"start\" x=\"508\" y=\"-105.8\" font-family=\"Times New Roman,serif\" font-size=\"14.00\">time_delay_for_conversion_mean : Double</text>\r\n",
       "<text text-anchor=\"start\" x=\"508\" y=\"-90.8\" font-family=\"Times New Roman,serif\" font-size=\"14.00\">time_delay_for_conversion_sum : Double</text>\r\n",
       "<text text-anchor=\"start\" x=\"508\" y=\"-75.8\" font-family=\"Times New Roman,serif\" font-size=\"14.00\">product_price_mean : Double</text>\r\n",
       "<text text-anchor=\"start\" x=\"508\" y=\"-60.8\" font-family=\"Times New Roman,serif\" font-size=\"14.00\">product_price_sum : Double</text>\r\n",
       "</g>\r\n",
       "<!-- transactions&#45;&gt;users -->\r\n",
       "<g id=\"edge2\" class=\"edge\"><title>transactions&#45;&gt;users</title>\r\n",
       "<path fill=\"none\" stroke=\"black\" d=\"M486.5,-293.407C486.5,-222.73 486.5,-128 486.5,-128 486.5,-128 489.859,-128 489.859,-128\"/>\r\n",
       "<polygon fill=\"black\" stroke=\"black\" points=\"489.859,-131.5 499.859,-128 489.859,-124.5 489.859,-131.5\"/>\r\n",
       "<text text-anchor=\"middle\" x=\"507.5\" y=\"-212.824\" font-family=\"Times New Roman,serif\" font-size=\"14.00\">user_id</text>\r\n",
       "</g>\r\n",
       "<!-- days -->\r\n",
       "<g id=\"node4\" class=\"node\"><title>days</title>\r\n",
       "<polygon fill=\"none\" stroke=\"black\" points=\"0,-53 0,-204 257,-204 257,-53 0,-53\"/>\r\n",
       "<text text-anchor=\"middle\" x=\"128.5\" y=\"-188.8\" font-family=\"Times New Roman,serif\" font-size=\"14.00\">days (91 rows)</text>\r\n",
       "<polyline fill=\"none\" stroke=\"black\" points=\"0,-181 257,-181 \"/>\r\n",
       "<text text-anchor=\"start\" x=\"8\" y=\"-165.8\" font-family=\"Times New Roman,serif\" font-size=\"14.00\">day : Datetime; index</text>\r\n",
       "<text text-anchor=\"start\" x=\"8\" y=\"-150.8\" font-family=\"Times New Roman,serif\" font-size=\"14.00\">Sale_size : Integer</text>\r\n",
       "<text text-anchor=\"start\" x=\"8\" y=\"-135.8\" font-family=\"Times New Roman,serif\" font-size=\"14.00\">SalesAmountInEuro_mean : Double</text>\r\n",
       "<text text-anchor=\"start\" x=\"8\" y=\"-120.8\" font-family=\"Times New Roman,serif\" font-size=\"14.00\">SalesAmountInEuro_sum : Double</text>\r\n",
       "<text text-anchor=\"start\" x=\"8\" y=\"-105.8\" font-family=\"Times New Roman,serif\" font-size=\"14.00\">time_delay_for_conversion_mean : Double</text>\r\n",
       "<text text-anchor=\"start\" x=\"8\" y=\"-90.8\" font-family=\"Times New Roman,serif\" font-size=\"14.00\">time_delay_for_conversion_sum : Double</text>\r\n",
       "<text text-anchor=\"start\" x=\"8\" y=\"-75.8\" font-family=\"Times New Roman,serif\" font-size=\"14.00\">product_price_mean : Double</text>\r\n",
       "<text text-anchor=\"start\" x=\"8\" y=\"-60.8\" font-family=\"Times New Roman,serif\" font-size=\"14.00\">product_price_sum : Double</text>\r\n",
       "</g>\r\n",
       "<!-- transactions&#45;&gt;days -->\r\n",
       "<g id=\"edge3\" class=\"edge\"><title>transactions&#45;&gt;days</title>\r\n",
       "<path fill=\"none\" stroke=\"black\" d=\"M265.405,-304C256.434,-304 250.75,-304 250.75,-304 250.75,-304 250.75,-214.201 250.75,-214.201\"/>\r\n",
       "<polygon fill=\"black\" stroke=\"black\" points=\"254.25,-214.201 250.75,-204.201 247.25,-214.201 254.25,-214.201\"/>\r\n",
       "<text text-anchor=\"middle\" x=\"240.25\" y=\"-270.228\" font-family=\"Times New Roman,serif\" font-size=\"14.00\">day</text>\r\n",
       "</g>\r\n",
       "<!-- pairs -->\r\n",
       "<g id=\"node5\" class=\"node\"><title>pairs</title>\r\n",
       "<polygon fill=\"none\" stroke=\"black\" points=\"18.5,-316 18.5,-422 244.5,-422 244.5,-316 18.5,-316\"/>\r\n",
       "<text text-anchor=\"middle\" x=\"131.5\" y=\"-406.8\" font-family=\"Times New Roman,serif\" font-size=\"14.00\">pairs (2642 rows)</text>\r\n",
       "<polyline fill=\"none\" stroke=\"black\" points=\"18.5,-399 244.5,-399 \"/>\r\n",
       "<text text-anchor=\"start\" x=\"26.5\" y=\"-383.8\" font-family=\"Times New Roman,serif\" font-size=\"14.00\">day : Datetime; foreign_key</text>\r\n",
       "<text text-anchor=\"start\" x=\"26.5\" y=\"-368.8\" font-family=\"Times New Roman,serif\" font-size=\"14.00\">product_id : Categorical; foreign_key</text>\r\n",
       "<text text-anchor=\"start\" x=\"26.5\" y=\"-353.8\" font-family=\"Times New Roman,serif\" font-size=\"14.00\">number_of_sales : Integer</text>\r\n",
       "<text text-anchor=\"start\" x=\"26.5\" y=\"-338.8\" font-family=\"Times New Roman,serif\" font-size=\"14.00\">SalesAmountInEuro_sum : Double</text>\r\n",
       "<text text-anchor=\"start\" x=\"26.5\" y=\"-323.8\" font-family=\"Times New Roman,serif\" font-size=\"14.00\">pair_id : Integer; index</text>\r\n",
       "</g>\r\n",
       "<!-- pairs&#45;&gt;products -->\r\n",
       "<g id=\"edge5\" class=\"edge\"><title>pairs&#45;&gt;products</title>\r\n",
       "<path fill=\"none\" stroke=\"black\" d=\"M169.167,-315.657C169.167,-276.458 169.167,-230 169.167,-230 169.167,-230 265.366,-230 265.366,-230\"/>\r\n",
       "<polygon fill=\"black\" stroke=\"black\" points=\"265.367,-233.5 275.366,-230 265.366,-226.5 265.367,-233.5\"/>\r\n",
       "<text text-anchor=\"middle\" x=\"142.938\" y=\"-233.8\" font-family=\"Times New Roman,serif\" font-size=\"14.00\">product_id</text>\r\n",
       "</g>\r\n",
       "<!-- pairs&#45;&gt;days -->\r\n",
       "<g id=\"edge4\" class=\"edge\"><title>pairs&#45;&gt;days</title>\r\n",
       "<path fill=\"none\" stroke=\"black\" d=\"M93.8333,-315.924C93.8333,-315.924 93.8333,-214.252 93.8333,-214.252\"/>\r\n",
       "<polygon fill=\"black\" stroke=\"black\" points=\"97.3334,-214.252 93.8333,-204.252 90.3334,-214.252 97.3334,-214.252\"/>\r\n",
       "<text text-anchor=\"middle\" x=\"83.3333\" y=\"-268.888\" font-family=\"Times New Roman,serif\" font-size=\"14.00\">day</text>\r\n",
       "</g>\r\n",
       "</g>\r\n",
       "</svg>\r\n"
      ],
      "text/plain": [
       "<graphviz.dot.Digraph at 0x1a45780f820>"
      ]
     },
     "execution_count": 28,
     "metadata": {},
     "output_type": "execute_result"
    }
   ],
   "source": [
    "categorical_type_columns_products = ['product_age_group', 'device_type', 'product_gender', 'product_brand',\n",
    "                                   'product_category(1)', 'product_category(2)', 'product_category(3)', 'product_category(4)',\n",
    "                                   'product_category(5)', 'product_category(6)', 'product_category(7)',\n",
    "                                   'product_country', 'product_id', 'product_title']\n",
    "categorical_type_columns_products = {column: Categorical for column in categorical_type_columns_products}\n",
    "\n",
    "es2 = es2.add_dataframe(\n",
    "    dataframe_name=\"transactions\",\n",
    "    dataframe=df_transactions,\n",
    "    index=\"transaction_id\",\n",
    "    logical_types={\n",
    "        \"product_id\": Categorical,\n",
    "        \"user_id\": Categorical,\n",
    "    }\n",
    ")\n",
    "\n",
    "es2 = es2.add_dataframe(\n",
    "    dataframe_name=\"products\",\n",
    "    dataframe=df_products,\n",
    "    index=\"product_id\",\n",
    "    logical_types=categorical_type_columns_products\n",
    ")\n",
    "\n",
    "es2 = es2.add_dataframe(\n",
    "    dataframe_name=\"users\",\n",
    "    dataframe=df_users,\n",
    "    index='user_id',\n",
    "    logical_types={\n",
    "        'user_id': Categorical,\n",
    "    }\n",
    ")\n",
    "\n",
    "es2 = es2.add_dataframe(\n",
    "    dataframe_name=\"days\",\n",
    "    dataframe=df_days,\n",
    "    index='day'\n",
    ")\n",
    "\n",
    "es2 = es2.add_dataframe(\n",
    "    dataframe_name=\"pairs\",\n",
    "    dataframe=df_days_products,\n",
    "    index='pair_id',\n",
    "    logical_types={\n",
    "        'product_id': Categorical\n",
    "    }\n",
    ")\n",
    "\n",
    "es2 = es2.add_relationship(\"products\", \"product_id\", \"transactions\", \"product_id\")\n",
    "es2 = es2.add_relationship(\"users\", \"user_id\", \"transactions\", \"user_id\")\n",
    "es2 = es2.add_relationship(\"days\", \"day\", \"transactions\", \"day\")\n",
    "es2 = es2.add_relationship(\"days\", \"day\", \"pairs\", \"day\")\n",
    "es2 = es2.add_relationship(\"products\", \"product_id\", \"pairs\", \"product_id\")\n",
    "\n",
    "es2.plot()"
   ]
  },
  {
   "cell_type": "code",
   "execution_count": 29,
   "id": "a64fd8a2-bb04-45ee-b6e7-1f4bbeb10d3a",
   "metadata": {},
   "outputs": [],
   "source": [
    "# %%time\n",
    "# feature_matrix2, feature_defs2 = ft.dfs(entityset=es2,\n",
    "#                                       target_dataframe_name=\"pairs\",\n",
    "#                                       max_depth=5)\n",
    "# feature_matrix2"
   ]
  },
  {
   "cell_type": "markdown",
   "id": "aceb286c-1b43-4444-b461-aa8ba4e9bdf1",
   "metadata": {},
   "source": [
    "Let's save the created feature_matrix to a csv file."
   ]
  },
  {
   "cell_type": "code",
   "execution_count": 30,
   "id": "941646b0-5c3b-4909-97d1-6d364be7558f",
   "metadata": {},
   "outputs": [],
   "source": [
    "# feature_matrix2.to_csv(f\"FeatureMatrixCategorical_{PARTNER_ID}.csv\")"
   ]
  },
  {
   "cell_type": "markdown",
   "id": "7255bef8-d314-402c-a99f-da0ab7a0520f",
   "metadata": {},
   "source": [
    "# 5. STATISTICAL TESTING OF DESCRIPTIVE FEATURES"
   ]
  },
  {
   "cell_type": "markdown",
   "id": "0223f130-2622-464c-b99e-c4e2f4b8e46d",
   "metadata": {},
   "source": [
    "In this part of the notebook, we will test the correlation between the described variable - the sum of the values in the SalesAmountInEuro column on a given day for a given product_id value and the describing variables.\n",
    "\n",
    "We will count how many such variables are significantly correlated with the variable described for a dataset without categorical variables and for a dataset containing categorical variables."
   ]
  },
  {
   "cell_type": "markdown",
   "id": "53bfdb7d-b6da-4f87-8cbf-73db8b3f5e16",
   "metadata": {},
   "source": [
    "## No Categorical"
   ]
  },
  {
   "cell_type": "markdown",
   "id": "2c53ccb4-9d41-4226-b4df-08cfc6de0071",
   "metadata": {},
   "source": [
    "We'll start with a dataset that does not contain categorical variables. After loading the dataset from the file, we remove the columns with the values of inf, -inf and NaN. There aren't many of these columns, so we're not losing a lot of information."
   ]
  },
  {
   "cell_type": "code",
   "execution_count": 31,
   "id": "3492585e-688b-447f-9e26-3f958fb39f48",
   "metadata": {},
   "outputs": [
    {
     "data": {
      "text/html": [
       "<div>\n",
       "<style scoped>\n",
       "    .dataframe tbody tr th:only-of-type {\n",
       "        vertical-align: middle;\n",
       "    }\n",
       "\n",
       "    .dataframe tbody tr th {\n",
       "        vertical-align: top;\n",
       "    }\n",
       "\n",
       "    .dataframe thead th {\n",
       "        text-align: right;\n",
       "    }\n",
       "</style>\n",
       "<table border=\"1\" class=\"dataframe\">\n",
       "  <thead>\n",
       "    <tr style=\"text-align: right;\">\n",
       "      <th></th>\n",
       "      <th>pair_id</th>\n",
       "      <th>product_id</th>\n",
       "      <th>number_of_sales</th>\n",
       "      <th>SalesAmountInEuro_sum</th>\n",
       "      <th>DAY(day)</th>\n",
       "      <th>MONTH(day)</th>\n",
       "      <th>WEEKDAY(day)</th>\n",
       "      <th>YEAR(day)</th>\n",
       "      <th>days.Sale_size</th>\n",
       "      <th>days.SalesAmountInEuro_mean</th>\n",
       "      <th>...</th>\n",
       "      <th>days.SUM(transactions.products.NUM_UNIQUE(transactions.YEAR(click_timestamp)))</th>\n",
       "      <th>days.SUM(transactions.products.NUM_UNIQUE(transactions.YEAR(day)))</th>\n",
       "      <th>days.SUM(transactions.users.NUM_UNIQUE(transactions.DAY(click_timestamp)))</th>\n",
       "      <th>days.SUM(transactions.users.NUM_UNIQUE(transactions.DAY(day)))</th>\n",
       "      <th>days.SUM(transactions.users.NUM_UNIQUE(transactions.MONTH(click_timestamp)))</th>\n",
       "      <th>days.SUM(transactions.users.NUM_UNIQUE(transactions.MONTH(day)))</th>\n",
       "      <th>days.SUM(transactions.users.NUM_UNIQUE(transactions.WEEKDAY(click_timestamp)))</th>\n",
       "      <th>days.SUM(transactions.users.NUM_UNIQUE(transactions.WEEKDAY(day)))</th>\n",
       "      <th>days.SUM(transactions.users.NUM_UNIQUE(transactions.YEAR(click_timestamp)))</th>\n",
       "      <th>days.SUM(transactions.users.NUM_UNIQUE(transactions.YEAR(day)))</th>\n",
       "    </tr>\n",
       "  </thead>\n",
       "  <tbody>\n",
       "    <tr>\n",
       "      <th>0</th>\n",
       "      <td>1</td>\n",
       "      <td>1068</td>\n",
       "      <td>2</td>\n",
       "      <td>580.000</td>\n",
       "      <td>4</td>\n",
       "      <td>8</td>\n",
       "      <td>1</td>\n",
       "      <td>2020</td>\n",
       "      <td>4</td>\n",
       "      <td>202.000</td>\n",
       "      <td>...</td>\n",
       "      <td>4.000</td>\n",
       "      <td>4.000</td>\n",
       "      <td>4.000</td>\n",
       "      <td>4.000</td>\n",
       "      <td>4.000</td>\n",
       "      <td>4.000</td>\n",
       "      <td>4.000</td>\n",
       "      <td>4.000</td>\n",
       "      <td>4.000</td>\n",
       "      <td>4.000</td>\n",
       "    </tr>\n",
       "    <tr>\n",
       "      <th>1</th>\n",
       "      <td>2</td>\n",
       "      <td>2326</td>\n",
       "      <td>2</td>\n",
       "      <td>228.000</td>\n",
       "      <td>4</td>\n",
       "      <td>8</td>\n",
       "      <td>1</td>\n",
       "      <td>2020</td>\n",
       "      <td>4</td>\n",
       "      <td>202.000</td>\n",
       "      <td>...</td>\n",
       "      <td>4.000</td>\n",
       "      <td>4.000</td>\n",
       "      <td>4.000</td>\n",
       "      <td>4.000</td>\n",
       "      <td>4.000</td>\n",
       "      <td>4.000</td>\n",
       "      <td>4.000</td>\n",
       "      <td>4.000</td>\n",
       "      <td>4.000</td>\n",
       "      <td>4.000</td>\n",
       "    </tr>\n",
       "    <tr>\n",
       "      <th>2</th>\n",
       "      <td>3</td>\n",
       "      <td>19</td>\n",
       "      <td>2</td>\n",
       "      <td>254.000</td>\n",
       "      <td>5</td>\n",
       "      <td>8</td>\n",
       "      <td>2</td>\n",
       "      <td>2020</td>\n",
       "      <td>34</td>\n",
       "      <td>139.471</td>\n",
       "      <td>...</td>\n",
       "      <td>34.000</td>\n",
       "      <td>34.000</td>\n",
       "      <td>34.000</td>\n",
       "      <td>34.000</td>\n",
       "      <td>34.000</td>\n",
       "      <td>34.000</td>\n",
       "      <td>34.000</td>\n",
       "      <td>34.000</td>\n",
       "      <td>34.000</td>\n",
       "      <td>34.000</td>\n",
       "    </tr>\n",
       "    <tr>\n",
       "      <th>3</th>\n",
       "      <td>4</td>\n",
       "      <td>32</td>\n",
       "      <td>2</td>\n",
       "      <td>178.000</td>\n",
       "      <td>5</td>\n",
       "      <td>8</td>\n",
       "      <td>2</td>\n",
       "      <td>2020</td>\n",
       "      <td>34</td>\n",
       "      <td>139.471</td>\n",
       "      <td>...</td>\n",
       "      <td>34.000</td>\n",
       "      <td>34.000</td>\n",
       "      <td>34.000</td>\n",
       "      <td>34.000</td>\n",
       "      <td>34.000</td>\n",
       "      <td>34.000</td>\n",
       "      <td>34.000</td>\n",
       "      <td>34.000</td>\n",
       "      <td>34.000</td>\n",
       "      <td>34.000</td>\n",
       "    </tr>\n",
       "    <tr>\n",
       "      <th>4</th>\n",
       "      <td>5</td>\n",
       "      <td>132</td>\n",
       "      <td>2</td>\n",
       "      <td>194.000</td>\n",
       "      <td>5</td>\n",
       "      <td>8</td>\n",
       "      <td>2</td>\n",
       "      <td>2020</td>\n",
       "      <td>34</td>\n",
       "      <td>139.471</td>\n",
       "      <td>...</td>\n",
       "      <td>34.000</td>\n",
       "      <td>34.000</td>\n",
       "      <td>34.000</td>\n",
       "      <td>34.000</td>\n",
       "      <td>34.000</td>\n",
       "      <td>34.000</td>\n",
       "      <td>34.000</td>\n",
       "      <td>34.000</td>\n",
       "      <td>34.000</td>\n",
       "      <td>34.000</td>\n",
       "    </tr>\n",
       "  </tbody>\n",
       "</table>\n",
       "<p>5 rows × 579 columns</p>\n",
       "</div>"
      ],
      "text/plain": [
       "   pair_id  product_id  number_of_sales  SalesAmountInEuro_sum  DAY(day)  \\\n",
       "0        1        1068                2                580.000         4   \n",
       "1        2        2326                2                228.000         4   \n",
       "2        3          19                2                254.000         5   \n",
       "3        4          32                2                178.000         5   \n",
       "4        5         132                2                194.000         5   \n",
       "\n",
       "   MONTH(day)  WEEKDAY(day)  YEAR(day)  days.Sale_size  \\\n",
       "0           8             1       2020               4   \n",
       "1           8             1       2020               4   \n",
       "2           8             2       2020              34   \n",
       "3           8             2       2020              34   \n",
       "4           8             2       2020              34   \n",
       "\n",
       "   days.SalesAmountInEuro_mean  ...  \\\n",
       "0                      202.000  ...   \n",
       "1                      202.000  ...   \n",
       "2                      139.471  ...   \n",
       "3                      139.471  ...   \n",
       "4                      139.471  ...   \n",
       "\n",
       "   days.SUM(transactions.products.NUM_UNIQUE(transactions.YEAR(click_timestamp)))  \\\n",
       "0                                              4.000                                \n",
       "1                                              4.000                                \n",
       "2                                             34.000                                \n",
       "3                                             34.000                                \n",
       "4                                             34.000                                \n",
       "\n",
       "   days.SUM(transactions.products.NUM_UNIQUE(transactions.YEAR(day)))  \\\n",
       "0                                              4.000                    \n",
       "1                                              4.000                    \n",
       "2                                             34.000                    \n",
       "3                                             34.000                    \n",
       "4                                             34.000                    \n",
       "\n",
       "   days.SUM(transactions.users.NUM_UNIQUE(transactions.DAY(click_timestamp)))  \\\n",
       "0                                              4.000                            \n",
       "1                                              4.000                            \n",
       "2                                             34.000                            \n",
       "3                                             34.000                            \n",
       "4                                             34.000                            \n",
       "\n",
       "   days.SUM(transactions.users.NUM_UNIQUE(transactions.DAY(day)))  \\\n",
       "0                                              4.000                \n",
       "1                                              4.000                \n",
       "2                                             34.000                \n",
       "3                                             34.000                \n",
       "4                                             34.000                \n",
       "\n",
       "   days.SUM(transactions.users.NUM_UNIQUE(transactions.MONTH(click_timestamp)))  \\\n",
       "0                                              4.000                              \n",
       "1                                              4.000                              \n",
       "2                                             34.000                              \n",
       "3                                             34.000                              \n",
       "4                                             34.000                              \n",
       "\n",
       "   days.SUM(transactions.users.NUM_UNIQUE(transactions.MONTH(day)))  \\\n",
       "0                                              4.000                  \n",
       "1                                              4.000                  \n",
       "2                                             34.000                  \n",
       "3                                             34.000                  \n",
       "4                                             34.000                  \n",
       "\n",
       "   days.SUM(transactions.users.NUM_UNIQUE(transactions.WEEKDAY(click_timestamp)))  \\\n",
       "0                                              4.000                                \n",
       "1                                              4.000                                \n",
       "2                                             34.000                                \n",
       "3                                             34.000                                \n",
       "4                                             34.000                                \n",
       "\n",
       "   days.SUM(transactions.users.NUM_UNIQUE(transactions.WEEKDAY(day)))  \\\n",
       "0                                              4.000                    \n",
       "1                                              4.000                    \n",
       "2                                             34.000                    \n",
       "3                                             34.000                    \n",
       "4                                             34.000                    \n",
       "\n",
       "   days.SUM(transactions.users.NUM_UNIQUE(transactions.YEAR(click_timestamp)))  \\\n",
       "0                                              4.000                             \n",
       "1                                              4.000                             \n",
       "2                                             34.000                             \n",
       "3                                             34.000                             \n",
       "4                                             34.000                             \n",
       "\n",
       "   days.SUM(transactions.users.NUM_UNIQUE(transactions.YEAR(day)))  \n",
       "0                                              4.000                \n",
       "1                                              4.000                \n",
       "2                                             34.000                \n",
       "3                                             34.000                \n",
       "4                                             34.000                \n",
       "\n",
       "[5 rows x 579 columns]"
      ]
     },
     "execution_count": 31,
     "metadata": {},
     "output_type": "execute_result"
    }
   ],
   "source": [
    "df1 = pd.read_csv(f\"FeatureMatrixNoCategorical_{PARTNER_ID}.csv\")\n",
    "df1.replace([np.inf, -np.inf], np.nan, inplace=True)\n",
    "df1.dropna(axis=1, inplace=True)\n",
    "df1.head()"
   ]
  },
  {
   "cell_type": "markdown",
   "id": "922d1373-c4fa-40b9-bd1e-e29f13a15117",
   "metadata": {},
   "source": [
    "### Correlation test"
   ]
  },
  {
   "cell_type": "markdown",
   "id": "1eef69ef-7989-4647-bc69-9994c10b8ee6",
   "metadata": {},
   "source": [
    "The performed correlation test for each of the describing variables will allow to determine how many variables are significantly correlated at the significance level of 0.05."
   ]
  },
  {
   "cell_type": "code",
   "execution_count": 32,
   "id": "5eac5883-b00e-4f00-b067-2353cf482d6f",
   "metadata": {},
   "outputs": [
    {
     "name": "stdout",
     "output_type": "stream",
     "text": [
      "Counter: 203\n"
     ]
    }
   ],
   "source": [
    "SalesSum = df1.SalesAmountInEuro_sum\n",
    "n = len(SalesSum)\n",
    "alpha = 0.05\n",
    "counter = 0 # counts correlated columns\n",
    "crit_value1 = t.ppf(alpha/2, n-2) # lower critical value\n",
    "crit_value2 = t.ppf(1-alpha/2, n-2) # upper critical value\n",
    "\n",
    "for col in df1.columns.drop(['pair_id', 'product_id', 'SalesAmountInEuro_sum']):\n",
    "    temp_col = df1[col]\n",
    "\n",
    "    covariance = np.cov(temp_col, SalesSum, ddof=1)[0, 1]\n",
    "    correlation = covariance/(np.std(temp_col, ddof=1)*np.std(SalesSum, ddof=1))\n",
    "\n",
    "    # T value\n",
    "    T = correlation*np.sqrt(n-2) / np.sqrt(1 - correlation**2)\n",
    "\n",
    "    if  T < crit_value1 or T > crit_value2:\n",
    "        counter += 1\n",
    "\n",
    "print(f\"Counter: {counter}\")"
   ]
  },
  {
   "cell_type": "markdown",
   "id": "900fde07-24e6-4c0d-8212-b85b6f547f5a",
   "metadata": {},
   "source": [
    "The `counter` variable determines how many variables are significantly correlated with the described variable."
   ]
  },
  {
   "cell_type": "markdown",
   "id": "45c9ce88-9382-409e-b612-152f535d78a8",
   "metadata": {},
   "source": [
    "## Categorical"
   ]
  },
  {
   "cell_type": "markdown",
   "id": "b7f8aa28-dde9-4613-a559-f98c3fd3fae5",
   "metadata": {},
   "source": [
    "We perform the same operations for a dataset which contains categorical variables."
   ]
  },
  {
   "cell_type": "code",
   "execution_count": 33,
   "id": "ed1b5194-bdef-4cee-8a55-7edc9ae39058",
   "metadata": {},
   "outputs": [
    {
     "data": {
      "text/html": [
       "<div>\n",
       "<style scoped>\n",
       "    .dataframe tbody tr th:only-of-type {\n",
       "        vertical-align: middle;\n",
       "    }\n",
       "\n",
       "    .dataframe tbody tr th {\n",
       "        vertical-align: top;\n",
       "    }\n",
       "\n",
       "    .dataframe thead th {\n",
       "        text-align: right;\n",
       "    }\n",
       "</style>\n",
       "<table border=\"1\" class=\"dataframe\">\n",
       "  <thead>\n",
       "    <tr style=\"text-align: right;\">\n",
       "      <th></th>\n",
       "      <th>pair_id</th>\n",
       "      <th>product_id</th>\n",
       "      <th>number_of_sales</th>\n",
       "      <th>SalesAmountInEuro_sum</th>\n",
       "      <th>DAY(day)</th>\n",
       "      <th>MONTH(day)</th>\n",
       "      <th>WEEKDAY(day)</th>\n",
       "      <th>YEAR(day)</th>\n",
       "      <th>days.Sale_size</th>\n",
       "      <th>days.SalesAmountInEuro_mean</th>\n",
       "      <th>...</th>\n",
       "      <th>days.SUM(transactions.products.NUM_UNIQUE(transactions.YEAR(click_timestamp)))</th>\n",
       "      <th>days.SUM(transactions.products.NUM_UNIQUE(transactions.YEAR(day)))</th>\n",
       "      <th>days.SUM(transactions.users.NUM_UNIQUE(transactions.DAY(click_timestamp)))</th>\n",
       "      <th>days.SUM(transactions.users.NUM_UNIQUE(transactions.DAY(day)))</th>\n",
       "      <th>days.SUM(transactions.users.NUM_UNIQUE(transactions.MONTH(click_timestamp)))</th>\n",
       "      <th>days.SUM(transactions.users.NUM_UNIQUE(transactions.MONTH(day)))</th>\n",
       "      <th>days.SUM(transactions.users.NUM_UNIQUE(transactions.WEEKDAY(click_timestamp)))</th>\n",
       "      <th>days.SUM(transactions.users.NUM_UNIQUE(transactions.WEEKDAY(day)))</th>\n",
       "      <th>days.SUM(transactions.users.NUM_UNIQUE(transactions.YEAR(click_timestamp)))</th>\n",
       "      <th>days.SUM(transactions.users.NUM_UNIQUE(transactions.YEAR(day)))</th>\n",
       "    </tr>\n",
       "  </thead>\n",
       "  <tbody>\n",
       "    <tr>\n",
       "      <th>0</th>\n",
       "      <td>1</td>\n",
       "      <td>1068</td>\n",
       "      <td>2</td>\n",
       "      <td>580.000</td>\n",
       "      <td>4</td>\n",
       "      <td>8</td>\n",
       "      <td>1</td>\n",
       "      <td>2020</td>\n",
       "      <td>4</td>\n",
       "      <td>202.000</td>\n",
       "      <td>...</td>\n",
       "      <td>4.000</td>\n",
       "      <td>4.000</td>\n",
       "      <td>4.000</td>\n",
       "      <td>4.000</td>\n",
       "      <td>4.000</td>\n",
       "      <td>4.000</td>\n",
       "      <td>4.000</td>\n",
       "      <td>4.000</td>\n",
       "      <td>4.000</td>\n",
       "      <td>4.000</td>\n",
       "    </tr>\n",
       "    <tr>\n",
       "      <th>1</th>\n",
       "      <td>2</td>\n",
       "      <td>2326</td>\n",
       "      <td>2</td>\n",
       "      <td>228.000</td>\n",
       "      <td>4</td>\n",
       "      <td>8</td>\n",
       "      <td>1</td>\n",
       "      <td>2020</td>\n",
       "      <td>4</td>\n",
       "      <td>202.000</td>\n",
       "      <td>...</td>\n",
       "      <td>4.000</td>\n",
       "      <td>4.000</td>\n",
       "      <td>4.000</td>\n",
       "      <td>4.000</td>\n",
       "      <td>4.000</td>\n",
       "      <td>4.000</td>\n",
       "      <td>4.000</td>\n",
       "      <td>4.000</td>\n",
       "      <td>4.000</td>\n",
       "      <td>4.000</td>\n",
       "    </tr>\n",
       "    <tr>\n",
       "      <th>2</th>\n",
       "      <td>3</td>\n",
       "      <td>19</td>\n",
       "      <td>2</td>\n",
       "      <td>254.000</td>\n",
       "      <td>5</td>\n",
       "      <td>8</td>\n",
       "      <td>2</td>\n",
       "      <td>2020</td>\n",
       "      <td>34</td>\n",
       "      <td>139.471</td>\n",
       "      <td>...</td>\n",
       "      <td>34.000</td>\n",
       "      <td>34.000</td>\n",
       "      <td>34.000</td>\n",
       "      <td>34.000</td>\n",
       "      <td>34.000</td>\n",
       "      <td>34.000</td>\n",
       "      <td>34.000</td>\n",
       "      <td>34.000</td>\n",
       "      <td>34.000</td>\n",
       "      <td>34.000</td>\n",
       "    </tr>\n",
       "    <tr>\n",
       "      <th>3</th>\n",
       "      <td>4</td>\n",
       "      <td>32</td>\n",
       "      <td>2</td>\n",
       "      <td>178.000</td>\n",
       "      <td>5</td>\n",
       "      <td>8</td>\n",
       "      <td>2</td>\n",
       "      <td>2020</td>\n",
       "      <td>34</td>\n",
       "      <td>139.471</td>\n",
       "      <td>...</td>\n",
       "      <td>34.000</td>\n",
       "      <td>34.000</td>\n",
       "      <td>34.000</td>\n",
       "      <td>34.000</td>\n",
       "      <td>34.000</td>\n",
       "      <td>34.000</td>\n",
       "      <td>34.000</td>\n",
       "      <td>34.000</td>\n",
       "      <td>34.000</td>\n",
       "      <td>34.000</td>\n",
       "    </tr>\n",
       "    <tr>\n",
       "      <th>4</th>\n",
       "      <td>5</td>\n",
       "      <td>132</td>\n",
       "      <td>2</td>\n",
       "      <td>194.000</td>\n",
       "      <td>5</td>\n",
       "      <td>8</td>\n",
       "      <td>2</td>\n",
       "      <td>2020</td>\n",
       "      <td>34</td>\n",
       "      <td>139.471</td>\n",
       "      <td>...</td>\n",
       "      <td>34.000</td>\n",
       "      <td>34.000</td>\n",
       "      <td>34.000</td>\n",
       "      <td>34.000</td>\n",
       "      <td>34.000</td>\n",
       "      <td>34.000</td>\n",
       "      <td>34.000</td>\n",
       "      <td>34.000</td>\n",
       "      <td>34.000</td>\n",
       "      <td>34.000</td>\n",
       "    </tr>\n",
       "  </tbody>\n",
       "</table>\n",
       "<p>5 rows × 627 columns</p>\n",
       "</div>"
      ],
      "text/plain": [
       "   pair_id  product_id  number_of_sales  SalesAmountInEuro_sum  DAY(day)  \\\n",
       "0        1        1068                2                580.000         4   \n",
       "1        2        2326                2                228.000         4   \n",
       "2        3          19                2                254.000         5   \n",
       "3        4          32                2                178.000         5   \n",
       "4        5         132                2                194.000         5   \n",
       "\n",
       "   MONTH(day)  WEEKDAY(day)  YEAR(day)  days.Sale_size  \\\n",
       "0           8             1       2020               4   \n",
       "1           8             1       2020               4   \n",
       "2           8             2       2020              34   \n",
       "3           8             2       2020              34   \n",
       "4           8             2       2020              34   \n",
       "\n",
       "   days.SalesAmountInEuro_mean  ...  \\\n",
       "0                      202.000  ...   \n",
       "1                      202.000  ...   \n",
       "2                      139.471  ...   \n",
       "3                      139.471  ...   \n",
       "4                      139.471  ...   \n",
       "\n",
       "   days.SUM(transactions.products.NUM_UNIQUE(transactions.YEAR(click_timestamp)))  \\\n",
       "0                                              4.000                                \n",
       "1                                              4.000                                \n",
       "2                                             34.000                                \n",
       "3                                             34.000                                \n",
       "4                                             34.000                                \n",
       "\n",
       "   days.SUM(transactions.products.NUM_UNIQUE(transactions.YEAR(day)))  \\\n",
       "0                                              4.000                    \n",
       "1                                              4.000                    \n",
       "2                                             34.000                    \n",
       "3                                             34.000                    \n",
       "4                                             34.000                    \n",
       "\n",
       "   days.SUM(transactions.users.NUM_UNIQUE(transactions.DAY(click_timestamp)))  \\\n",
       "0                                              4.000                            \n",
       "1                                              4.000                            \n",
       "2                                             34.000                            \n",
       "3                                             34.000                            \n",
       "4                                             34.000                            \n",
       "\n",
       "   days.SUM(transactions.users.NUM_UNIQUE(transactions.DAY(day)))  \\\n",
       "0                                              4.000                \n",
       "1                                              4.000                \n",
       "2                                             34.000                \n",
       "3                                             34.000                \n",
       "4                                             34.000                \n",
       "\n",
       "   days.SUM(transactions.users.NUM_UNIQUE(transactions.MONTH(click_timestamp)))  \\\n",
       "0                                              4.000                              \n",
       "1                                              4.000                              \n",
       "2                                             34.000                              \n",
       "3                                             34.000                              \n",
       "4                                             34.000                              \n",
       "\n",
       "   days.SUM(transactions.users.NUM_UNIQUE(transactions.MONTH(day)))  \\\n",
       "0                                              4.000                  \n",
       "1                                              4.000                  \n",
       "2                                             34.000                  \n",
       "3                                             34.000                  \n",
       "4                                             34.000                  \n",
       "\n",
       "   days.SUM(transactions.users.NUM_UNIQUE(transactions.WEEKDAY(click_timestamp)))  \\\n",
       "0                                              4.000                                \n",
       "1                                              4.000                                \n",
       "2                                             34.000                                \n",
       "3                                             34.000                                \n",
       "4                                             34.000                                \n",
       "\n",
       "   days.SUM(transactions.users.NUM_UNIQUE(transactions.WEEKDAY(day)))  \\\n",
       "0                                              4.000                    \n",
       "1                                              4.000                    \n",
       "2                                             34.000                    \n",
       "3                                             34.000                    \n",
       "4                                             34.000                    \n",
       "\n",
       "   days.SUM(transactions.users.NUM_UNIQUE(transactions.YEAR(click_timestamp)))  \\\n",
       "0                                              4.000                             \n",
       "1                                              4.000                             \n",
       "2                                             34.000                             \n",
       "3                                             34.000                             \n",
       "4                                             34.000                             \n",
       "\n",
       "   days.SUM(transactions.users.NUM_UNIQUE(transactions.YEAR(day)))  \n",
       "0                                              4.000                \n",
       "1                                              4.000                \n",
       "2                                             34.000                \n",
       "3                                             34.000                \n",
       "4                                             34.000                \n",
       "\n",
       "[5 rows x 627 columns]"
      ]
     },
     "execution_count": 33,
     "metadata": {},
     "output_type": "execute_result"
    }
   ],
   "source": [
    "df2 = pd.read_csv(f\"FeatureMatrixCategorical_{PARTNER_ID}.csv\")\n",
    "df2.replace([np.inf, -np.inf], np.nan, inplace=True)\n",
    "df2.dropna(axis=1, inplace=True)\n",
    "df2.head()"
   ]
  },
  {
   "cell_type": "markdown",
   "id": "0009ecae-f0de-475c-aa54-d2ffe7ba088e",
   "metadata": {},
   "source": [
    "### Correlation test"
   ]
  },
  {
   "cell_type": "code",
   "execution_count": 34,
   "id": "9710ff39-aacc-4803-ae3f-d5eca2c34d98",
   "metadata": {},
   "outputs": [
    {
     "name": "stdout",
     "output_type": "stream",
     "text": [
      "Counter: 207\n"
     ]
    }
   ],
   "source": [
    "SalesSum = df2.SalesAmountInEuro_sum\n",
    "n = len(SalesSum)\n",
    "alpha = 0.05\n",
    "counter = 0 # counts correlated columns\n",
    "crit_value1 = t.ppf(alpha/2, n-2) # lower critical value\n",
    "crit_value2 = t.ppf(1-alpha/2, n-2) # upper critical value\n",
    "\n",
    "for col in df2.columns.drop(['pair_id', 'product_id', 'SalesAmountInEuro_sum']):\n",
    "    temp_col = df2[col]\n",
    "\n",
    "    covariance = np.cov(temp_col, SalesSum, ddof=1)[0, 1]\n",
    "    correlation = covariance/(np.std(temp_col, ddof=1)*np.std(SalesSum, ddof=1))\n",
    "\n",
    "    # T value\n",
    "    T = correlation*np.sqrt(n-2) / np.sqrt(1 - correlation**2)\n",
    "\n",
    "    if  T < crit_value1 or T > crit_value2:\n",
    "        counter += 1\n",
    "\n",
    "print(f\"Counter: {counter}\")"
   ]
  },
  {
   "cell_type": "markdown",
   "id": "2e28a69d-bb9a-4151-8685-f2f00d5953c6",
   "metadata": {},
   "source": [
    "The final result is 207 variables significantly correlated with the described variable."
   ]
  },
  {
   "cell_type": "markdown",
   "id": "49d137e1-865c-4c1c-9122-4de01db45b28",
   "metadata": {},
   "source": [
    "# 6. PCA"
   ]
  },
  {
   "cell_type": "markdown",
   "id": "56bd7ee1-6e27-4da1-9443-070c1df2c17e",
   "metadata": {},
   "source": [
    "Principal Component Analysis (PCA) is by far the most popular dimensionality reduction algorithm. First it identifies the hyperplane that lies closest to the data, and then it projects the data onto it.\n",
    "\n",
    "To perform PCA on a dataset that does not contain categorical variables obtained using DFS, we will use the PCA class implemented in the scikit-learn package."
   ]
  },
  {
   "cell_type": "markdown",
   "id": "910b9c07-7aba-4e85-a620-dddcd5719a38",
   "metadata": {},
   "source": [
    "## Standard scaler"
   ]
  },
  {
   "cell_type": "markdown",
   "id": "d30ad61d-9bb6-4ac1-8d7f-08fe10e14bb7",
   "metadata": {},
   "source": [
    "Before using PCA, we will extract particular subset and standardize the entire subset as PCA is sensitive to the scale of values."
   ]
  },
  {
   "cell_type": "code",
   "execution_count": 35,
   "id": "842aa1e8-8859-41dc-9726-27636214d5c1",
   "metadata": {},
   "outputs": [
    {
     "data": {
      "text/plain": [
       "array([[-0.08550089, -1.35723081, -1.2626014 , ..., -3.10278361,\n",
       "        -3.12327866, -3.12327866],\n",
       "       [-0.08550089, -1.35723081, -1.2626014 , ..., -3.10278361,\n",
       "        -3.12327866, -3.12327866],\n",
       "       [-0.08550089, -1.24270132, -1.2626014 , ..., -1.70984199,\n",
       "        -1.5673323 , -1.5673323 ],\n",
       "       ...,\n",
       "       [-0.08550089, -1.58628979,  2.4617673 , ..., -2.54560696,\n",
       "        -2.50090012, -2.50090012],\n",
       "       [-0.08550089, -1.58628979,  2.4617673 , ..., -2.54560696,\n",
       "        -2.50090012, -2.50090012],\n",
       "       [-0.08550089, -1.58628979,  2.4617673 , ..., -2.54560696,\n",
       "        -2.50090012, -2.50090012]])"
      ]
     },
     "execution_count": 35,
     "metadata": {},
     "output_type": "execute_result"
    }
   ],
   "source": [
    "standard_scaler = StandardScaler()\n",
    "y = df1.SalesAmountInEuro_sum.to_numpy()\n",
    "X = df1.drop(['pair_id', 'SalesAmountInEuro_sum', 'product_id'], axis=1)\n",
    "df1_scaled = standard_scaler.fit_transform(X)\n",
    "df1_scaled"
   ]
  },
  {
   "cell_type": "markdown",
   "id": "66cef539-3903-42b6-bd49-017ca686a3a2",
   "metadata": {},
   "source": [
    "## Using PCA"
   ]
  },
  {
   "cell_type": "markdown",
   "id": "9d7ebe27-1bc5-41ae-bec7-fe4ae1f2dc1d",
   "metadata": {},
   "source": [
    "To select the appropriate number of target subspaces, we will draw the explained variance ratio graph and use it to make our selection."
   ]
  },
  {
   "cell_type": "code",
   "execution_count": 36,
   "id": "33b289b7-3e00-45bc-b402-e12675fb3097",
   "metadata": {},
   "outputs": [],
   "source": [
    "pca = PCA()\n",
    "pca.fit(df1_scaled)\n",
    "cumsum = np.cumsum(pca.explained_variance_ratio_)"
   ]
  },
  {
   "cell_type": "code",
   "execution_count": 37,
   "id": "e642a659-acd5-4aa5-98bc-16fc31d53824",
   "metadata": {},
   "outputs": [
    {
     "data": {
      "image/png": "[encoded data removed]",
      "text/plain": [
       "<Figure size 1008x576 with 1 Axes>"
      ]
     },
     "metadata": {
      "needs_background": "light"
     },
     "output_type": "display_data"
    }
   ],
   "source": [
    "plt.figure(figsize=(14, 8))\n",
    "plt.plot(cumsum)\n",
    "plt.title(\"Explained variance as a function of the number of dimensions\")\n",
    "plt.xlabel(\"Dimensions\")\n",
    "plt.ylabel(\"Explained variance\")\n",
    "plt.show()"
   ]
  },
  {
   "cell_type": "markdown",
   "id": "828b1e38-ee94-4ed3-a263-de241b46a552",
   "metadata": {},
   "source": [
    "We can see that reducing the dimensionality down to 40 wouldn't lose too much explained variance."
   ]
  },
  {
   "cell_type": "code",
   "execution_count": 38,
   "id": "a4940ad6-a34f-446d-9a05-0d0dbc54128d",
   "metadata": {},
   "outputs": [
    {
     "data": {
      "text/plain": [
       "array([[-1.39556190e+08,  9.72250453e+06,  5.08193330e+06, ...,\n",
       "        -4.91776499e+03,  9.30111149e+03, -5.86391121e+03],\n",
       "       [-1.39556788e+08,  9.72193643e+06,  5.08294718e+06, ...,\n",
       "        -4.92041036e+03,  9.29933790e+03, -5.85887120e+03],\n",
       "       [-1.12801151e+08,  8.34015336e+06,  2.20059421e+06, ...,\n",
       "        -5.09714743e+03,  1.28344820e+02, -2.45378224e+03],\n",
       "       ...,\n",
       "       [-1.18450843e+08,  6.90242439e+06,  3.87772011e+06, ...,\n",
       "         5.83104120e+03,  1.26190455e+04,  1.03417576e+04],\n",
       "       [-1.18447744e+08,  6.90536996e+06,  3.87246314e+06, ...,\n",
       "         5.82839510e+03,  1.26211511e+04,  1.03395096e+04],\n",
       "       [-1.18459723e+08,  6.89398258e+06,  3.89278622e+06, ...,\n",
       "         5.84042653e+03,  1.26159541e+04,  1.03477895e+04]])"
      ]
     },
     "execution_count": 38,
     "metadata": {},
     "output_type": "execute_result"
    }
   ],
   "source": [
    "pca = PCA(n_components=40)\n",
    "X_reduced = pca.fit_transform(X)\n",
    "X_reduced"
   ]
  },
  {
   "cell_type": "markdown",
   "id": "89a89c9c-b61f-4e96-8deb-ee4fb9b16d72",
   "metadata": {},
   "source": [
    "This is what a dataset looks like after reducing its dimensions to 40. Its dimensions are also presented below."
   ]
  },
  {
   "cell_type": "code",
   "execution_count": 39,
   "id": "fed96dc2-c1a4-407c-9f2b-c4935f61ba2b",
   "metadata": {},
   "outputs": [
    {
     "data": {
      "text/plain": [
       "(2642, 40)"
      ]
     },
     "execution_count": 39,
     "metadata": {},
     "output_type": "execute_result"
    }
   ],
   "source": [
    "X_reduced.shape"
   ]
  },
  {
   "cell_type": "markdown",
   "id": "3f908985-6c4c-4928-8133-277dae8e43ab",
   "metadata": {},
   "source": [
    "## Correlation test"
   ]
  },
  {
   "cell_type": "markdown",
   "id": "07d89ae1-e357-4fc9-952c-4e34d4ad9ff1",
   "metadata": {},
   "source": [
    "The following test is a test of the correlation between the described variable and the variables obtained as a result of the PCA algorithm.\n",
    "\n",
    "\n",
    "HYPOTHESES:\n",
    "\n",
    "$ H_0 : \\rho = 0 $\n",
    "\n",
    "$ H_1 : \\rho != 0 $"
   ]
  },
  {
   "cell_type": "code",
   "execution_count": 43,
   "id": "07037a3f-e56c-4a3b-9384-6efe1ea42a08",
   "metadata": {},
   "outputs": [
    {
     "name": "stdout",
     "output_type": "stream",
     "text": [
      "Counter: 7\n"
     ]
    }
   ],
   "source": [
    "n = len(SalesSum)\n",
    "alpha = 0.05\n",
    "counter = 0 # counts correlated columns\n",
    "crit_value1 = t.ppf(alpha/2, n-2) # lower critical value\n",
    "crit_value2 = t.ppf(1-alpha/2, n-2) # upper critical value\n",
    "\n",
    "for column in X_reduced.T:\n",
    "    \n",
    "    covariance = np.cov(column, y, ddof=1)[0, 1]\n",
    "    correlation = covariance/(np.std(column, ddof=1)*np.std(y, ddof=1))\n",
    "    \n",
    "    # T value\n",
    "    T = correlation*np.sqrt(n-2) / np.sqrt(1 - correlation**2)\n",
    "\n",
    "    if  T < crit_value1 or T > crit_value2:\n",
    "        counter += 1\n",
    "        \n",
    "print(f\"Counter: {counter}\")"
   ]
  },
  {
   "cell_type": "markdown",
   "id": "90825c01-ca02-41dc-83bf-6eb6793c1ac1",
   "metadata": {},
   "source": [
    "Thanks to the test, we know that 7 out of 40 selected features are significantly correlated with the described variable."
   ]
  },
  {
   "cell_type": "markdown",
   "id": "3efd951d-ae88-419c-8346-17f818e21fc5",
   "metadata": {},
   "source": [
    "# 7. SUMMARY"
   ]
  },
  {
   "cell_type": "markdown",
   "id": "61749937-bcb7-41c5-9dcf-9c86ad42afe9",
   "metadata": {},
   "source": [
    "This notebook covers Exploratory Analysis + Feature Engineering Elements + Test of Correlation Coefficients using Criteo Data Search data.\n",
    "\n",
    "**Motivations for choices made during work:**\n",
    "\n",
    "During the work, I focused mainly on the analysis of the numerical values contained in the SalesAmountInEuro and product_price columns with divisions into different subgroups, because they were later taken into account in the correlation tests. It was also easy to present these features in graphs due to their quantitative nature. Most of the data in the dataset was categorical.\n",
    "\n",
    "Unfortunately, a large amount of data had to be omitted from the considerations due to the lack of information in many fields (NaN). Thanks to this, however, I was able to get acquainted with the work with a previously unprepared data set.\n",
    "\n",
    "I decided to group the data in such a way that it is possible to carry out tests on them and to make a sensible and clear data visualization.\n",
    "\n",
    "**Conclusions**\n",
    "\n",
    "The Deep Feature Synthesis algorithm is a tool that can be of great help in training machine learning models. Thanks to it, you can create many new features that are not present in the original dataset, and which may turn out to be crucial when training the model.\n",
    "\n",
    "Thanks to the PCA algorithm, we can significantly reduce the multidimensionality of data without losing a lot of information.\n",
    "\n",
    "**Suggestions for further steps**\n",
    "\n",
    "The presented notebook contains work on only a small part of the entire Criteo Data Search dataset. If I were to take the next steps, I would also consider other product manufacturers and compare them with each other. Given the size of the entire dataset, a machine learning model could also be trained to predict the price of a product based on its characteristics."
   ]
  },
  {
   "cell_type": "markdown",
   "id": "d6c8f34b-3b44-4dc9-b725-3ab5c2f86714",
   "metadata": {},
   "source": [
    "# 8. LITERATURE\n",
    "\n",
    "\n",
    "**BOOKS** :\n",
    "- Hands-On Machine Learning with Scikit-Learn and TensorFlow - Aurelien Geron\n",
    "- Practical Statistics for Data Scientists: 50+ Essential Concepts Using R and Python, 2nd Edition - Peter Bruce, Andrew Bruce, Peter Gedeck\n",
    "\n",
    "**LINKS** :\n",
    "\n",
    "INTRODUCTION\n",
    "- https://ailab.criteo.com/criteo-sponsored-search-conversion-log-dataset/\n",
    "- https://scikit-learn.org/stable/modules/generated/sklearn.preprocessing.LabelEncoder.html\n",
    "\n",
    "EXPLORATORY DATA ANALYSIS\n",
    "- https://stackoverflow.com/questions/34317149/pandas-groupby-with-bin-counts\n",
    "- https://seaborn.pydata.org/generated/seaborn.histplot.html\n",
    "- https://en.wikipedia.org/wiki/Frequency_(statistics)\n",
    "- https://en.wikipedia.org/wiki/Exploratory_data_analysis\n",
    "- https://en.wikipedia.org/wiki/Summary_statistics\n",
    "\n",
    "TESTING HYPOTHESES\n",
    "- https://pl.wikipedia.org/wiki/Test_Shapiro-Wilka\n",
    "- https://docs.scipy.org/doc/scipy/reference/generated/scipy.stats.shapiro.html\n",
    "- http://www.sthda.com/english/wiki/correlation-test-between-two-variables-in-r\n",
    "\n",
    "FEATURE ENGINEERING\n",
    "- https://medium.com/@souvikmanna251/deep-feature-synthesis-introduction-to-feature-engineering-49438cdc143e\n",
    "- https://medium.com/@souvikmanna251/deep-feature-synthesis-introduction-to-feature-engineering-7977f626359f\n",
    "- https://towardsdatascience.com/deep-feature-synthesis-vs-genetic-feature-generation-6ba4d05a6ca5\n",
    "- https://featuretools.alteryx.com/en/stable/index.html#\n",
    "\n",
    "PCA\n",
    "- https://scikit-learn.org/stable/modules/generated/sklearn.preprocessing.StandardScaler.html\n",
    "- https://www.keboola.com/blog/pca-machine-learning\n",
    "- https://scikit-learn.org/stable/modules/generated/sklearn.decomposition.PCA.html"
   ]
  }
 ],
 "metadata": {
  "kernelspec": {
   "display_name": "Python 3 (ipykernel)",
   "language": "python",
   "name": "python3"
  },
  "language_info": {
   "codemirror_mode": {
    "name": "ipython",
    "version": 3
   },
   "file_extension": ".py",
   "mimetype": "text/x-python",
   "name": "python",
   "nbconvert_exporter": "python",
   "pygments_lexer": "ipython3",
   "version": "3.8.12"
  }
 },
 "nbformat": 4,
 "nbformat_minor": 5
}
