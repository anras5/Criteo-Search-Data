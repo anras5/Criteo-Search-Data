{
 "cells": [
  {
   "cell_type": "markdown",
   "id": "5e309df1-3252-449b-bc11-28d4c529f979",
   "metadata": {},
   "source": [
    "# CRITEO SPONSORED SEARCH CONVERSION LOG DATASET\n",
    "\n",
    "## WHAT IS THIS NOTEBOOK ABOUT\n",
    "\n",
    "This notebook presents EDA (Exploratory Data Analysis), elements of feature engineering and correlation test of the \"CRITEO SPONSORED SEARCH CONVERSION LOG DATASET\"\n",
    "\n",
    "## CONTENTS\n",
    "\n",
    "1. INTRODUCTION\n",
    "2. EXPLORATORY DATA ANALYSIS\n",
    "3. TESTING HYPOTHESES\n",
    "4. FEATURE ENGINEERING\n",
    "5. STATISTICAL TESTING OF DESCRIBING FEATURES\n",
    "6. COMPETITION METRIC\n",
    "7. SUMMARY\n",
    "8. LITERATURE\n"
   ]
  },
  {
   "cell_type": "markdown",
   "id": "9238eeea-fc90-4f60-ae1f-f6161f5ac984",
   "metadata": {
    "tags": []
   },
   "source": [
    "# 1. INTRODUCTION"
   ]
  },
  {
   "cell_type": "markdown",
   "id": "92ce1d92-d05b-462d-9c4b-968283ca7bd9",
   "metadata": {
    "tags": []
   },
   "source": [
    "## DESCRIPTION OF THE DATASET\n",
    "\n",
    "Criteo Sponsored Search Conversion Log Dataset contains logs obtained from Criteo Predictive Search. \\\n",
    "Each row in the dataset represents an action performed by the user on a product related advertisement. \n",
    "\n",
    "### Data description\n",
    "\n",
    "- Sale : Indicates 1 if conversion occurred and 0 if not.\n",
    "- SalesAmountInEuro : Indicates the revenue obtained when a conversion took place. This might be different from product-price, due to attribution issues. It is -1, when no conversion took place.\n",
    "- Time_delay_for_conversion : This indicates the time between click and conversion. It is -1, when no conversion took place.\n",
    "\n",
    "- click_timestamp: Timestamp of the click. The dataset is sorted according to timestamp.\n",
    "- nb_clicks_1week: Number of clicks the product related advertisement has received in the last 1 week.\n",
    "- product_price: Price of the product shown in the advertisement.\n",
    "- product_age_group: The intended user age group of the user, the product is made for.\n",
    "- device_type: This indicates whether it is a returning user or a new user on mobile, tablet or desktop. \n",
    "- audience_id:  We do not disclose the meaning of this feature.\n",
    "- product_gender: The intended gender of the user, the product is made for.\n",
    "- product_brand: Categorical feature about the brand of the product.\n",
    "- product_category(1-7): Categorical features associated to the product. We do not disclose the meaning of these features.\n",
    "- product_country: Country in which the product is sold.\n",
    "- product_id: Unique identifier associated with every product.\n",
    "- product_title: Hashed title of the product.\n",
    "- partner_id: Unique identifier associated with the seller of the product.\n",
    "- user_id: Unique identifier associated with every user.\n",
    "\n",
    "**All categorical features have been hashed**, **-1 is the missing value indicator**\n",
    "\n",
    "For more information about the dataset head over to https://ailab.criteo.com/criteo-sponsored-search-conversion-log-dataset/"
   ]
  },
  {
   "cell_type": "markdown",
   "id": "93fdd08c-c4e0-4a3e-bfe5-6f35cabe48ba",
   "metadata": {},
   "source": [
    "## IMPORTS FOR THE NOTEBOOK"
   ]
  },
  {
   "cell_type": "code",
   "execution_count": 9,
   "id": "52340eed-c2df-4992-989e-e179f8c19921",
   "metadata": {},
   "outputs": [],
   "source": [
    "import os\n",
    "import numpy as np\n",
    "import pandas as pd\n",
    "\n",
    "pd.options.display.float_format = '{:.3f}'.format\n",
    "\n",
    "from scipy.stats import moment, skew\n",
    "\n",
    "from sklearn.decomposition import PCA\n",
    "from sklearn.preprocessing import LabelEncoder\n",
    "\n",
    "from matplotlib import pyplot as plt\n",
    "import seaborn as sns\n",
    "\n",
    "\n",
    "%matplotlib inline"
   ]
  },
  {
   "cell_type": "markdown",
   "id": "a213a547-c337-4c7e-bd58-86180cc5ee1b",
   "metadata": {},
   "source": [
    "## CONSTANTS\n",
    "Constants that will be used later in the notebook"
   ]
  },
  {
   "cell_type": "code",
   "execution_count": 2,
   "id": "9ac0d41a-b3f1-4521-8db0-d1a521fb6d0d",
   "metadata": {},
   "outputs": [],
   "source": [
    "PARTNER_ID = 'BD01BAFAE73CF38C403978BBB458300C'\n",
    "\n",
    "ALL_COLUMN_NAMES = ['Sale', 'SalesAmountInEuro', 'time_delay_for_conversion', 'click_timestamp',\n",
    "                    'nb_clicks_1week', 'product_price', 'product_age_group', 'device_type',\n",
    "                    'product_gender', 'product_brand','product_category(1)', 'product_category(2)',\n",
    "                    'product_category(3)', 'product_category(4)','product_category(5)',\n",
    "                    'product_category(6)', 'product_category(7)', 'product_country', 'product_id',\n",
    "                    'product_title', 'partner_id', 'user_id']\n",
    "\n",
    "OBJECT_TYPE_COLUMN_NAMES = ['product_age_group', 'device_type','audience_id', 'product_gender', 'product_brand',\n",
    "                       'product_category(1)', 'product_category(2)', 'product_category(3)', 'product_category(4)',\n",
    "                       'product_category(5)', 'product_category(6)', 'product_category(7)',\n",
    "                       'product_country', 'product_id', 'product_title', 'user_id']"
   ]
  },
  {
   "cell_type": "markdown",
   "id": "e4449a7f-1e4f-4fb3-b5a2-36c483fdace0",
   "metadata": {
    "jp-MarkdownHeadingCollapsed": true,
    "tags": []
   },
   "source": [
    "## CREATE CSV - CHOOSE THE PARTNER_ID\n",
    "\n",
    "The analysis will be performed only for one of many *partner_id* from the dataset. Because the dataset can be considered a big data source, we have created a csv file containing only the information related to chosen ` PARTNER_ID `."
   ]
  },
  {
   "cell_type": "code",
   "execution_count": null,
   "id": "b18d113b-675e-422a-b1ed-463a323ae1f5",
   "metadata": {},
   "outputs": [],
   "source": [
    "%run create_csv_file.py"
   ]
  },
  {
   "cell_type": "markdown",
   "id": "50c87d07-c570-4848-981a-fd9ed5f0330f",
   "metadata": {},
   "source": [
    "## READ CSV"
   ]
  },
  {
   "cell_type": "code",
   "execution_count": 3,
   "id": "f24fde75-b64d-42b8-8180-37e508cb3364",
   "metadata": {},
   "outputs": [],
   "source": [
    "filepath = f\"CriteoSearchData_{PARTNER_ID}.csv\"\n",
    "\n",
    "if os.path.isfile(filepath):\n",
    "    df_raw = pd.read_csv(f\"CriteoSearchData_{PARTNER_ID}.csv\", low_memory=False, usecols=ALL_COLUMN_NAMES)\n",
    "else:\n",
    "    print('Sorry. You have to create an appropriate csv file first.')\n",
    "\n",
    "# drop partner_id column -> same for every row\n",
    "df_raw.drop(labels='partner_id', inplace=True, axis=1)"
   ]
  },
  {
   "cell_type": "markdown",
   "id": "de2961da-2457-487e-bf80-6982c3cbc904",
   "metadata": {},
   "source": [
    "Before performing EDA, let's preprocess the data - handle NaNs and hashed values.\n",
    "\n",
    "First of all let's change all the `-1` values in the dataset to `np.NaN` to a indicate missing value."
   ]
  },
  {
   "cell_type": "markdown",
   "id": "461def10-c248-4c05-8382-6de46ac9ec25",
   "metadata": {},
   "source": [
    "## PREPROCESSING"
   ]
  },
  {
   "cell_type": "code",
   "execution_count": 4,
   "id": "2535cdfe-4c21-4a98-a3b9-16e5bdefcfda",
   "metadata": {},
   "outputs": [],
   "source": [
    "# handle NANs\n",
    "df_nans = df_raw.replace('-1', np.NaN)\n",
    "df_nans.replace(-1, np.NaN, inplace=True)\n",
    "\n",
    "# Filter Sales\n",
    "df_nans_sale_1 = df_nans.query(\"Sale == 1\")"
   ]
  },
  {
   "cell_type": "markdown",
   "id": "9c08cf17-ddda-4d98-828f-8e31ce1fb4fe",
   "metadata": {},
   "source": [
    "Now let's handle the hashed values. First of all let's check datatypes of the columns of `df`"
   ]
  },
  {
   "cell_type": "code",
   "execution_count": 5,
   "id": "15354e8a-bb64-4fb2-a5f1-2a6978312437",
   "metadata": {
    "tags": []
   },
   "outputs": [
    {
     "name": "stdout",
     "output_type": "stream",
     "text": [
      "Sale                           int64\n",
      "SalesAmountInEuro            float64\n",
      "time_delay_for_conversion    float64\n",
      "click_timestamp                int64\n",
      "nb_clicks_1week              float64\n",
      "product_price                float64\n",
      "product_age_group             object\n",
      "device_type                   object\n",
      "product_gender                object\n",
      "product_brand                 object\n",
      "product_category(1)           object\n",
      "product_category(2)           object\n",
      "product_category(3)           object\n",
      "product_category(4)           object\n",
      "product_category(5)           object\n",
      "product_category(6)           object\n",
      "product_category(7)          float64\n",
      "product_country               object\n",
      "product_id                    object\n",
      "product_title                 object\n",
      "user_id                       object\n",
      "dtype: object\n",
      "------------------------------\n",
      "object     14\n",
      "float64     5\n",
      "int64       2\n",
      "dtype: int64\n"
     ]
    }
   ],
   "source": [
    "print(df_nans_sale_1.dtypes)\n",
    "print('-'*30)\n",
    "print(df_nans_sale_1.dtypes.value_counts())"
   ]
  },
  {
   "cell_type": "markdown",
   "id": "5e12b83d-a72d-4a7d-ac9c-705be269d38f",
   "metadata": {},
   "source": [
    "Thanks to this summary we know now that 16 features have `object` type which means they have been hashed. We can simplify every column with `object` type. As long as they are hashed, we do not lose any valuable information (however we will store the original data in a dictionary `encoders`) and what is more - it will simplify the EDA of the dataset later. \\\n",
    "For example we will transform the `product_gender` column by assigning one number for each category. \\\n",
    "To achieve this we will use `LabelEncoder` from `sklearn.preprocessing` package."
   ]
  },
  {
   "cell_type": "code",
   "execution_count": 6,
   "id": "12861f19-587b-48cc-afd7-925a49be7415",
   "metadata": {},
   "outputs": [
    {
     "data": {
      "text/html": [
       "<div>\n",
       "<style scoped>\n",
       "    .dataframe tbody tr th:only-of-type {\n",
       "        vertical-align: middle;\n",
       "    }\n",
       "\n",
       "    .dataframe tbody tr th {\n",
       "        vertical-align: top;\n",
       "    }\n",
       "\n",
       "    .dataframe thead th {\n",
       "        text-align: right;\n",
       "    }\n",
       "</style>\n",
       "<table border=\"1\" class=\"dataframe\">\n",
       "  <thead>\n",
       "    <tr style=\"text-align: right;\">\n",
       "      <th></th>\n",
       "      <th>Sale</th>\n",
       "      <th>SalesAmountInEuro</th>\n",
       "      <th>time_delay_for_conversion</th>\n",
       "      <th>click_timestamp</th>\n",
       "      <th>nb_clicks_1week</th>\n",
       "      <th>product_price</th>\n",
       "      <th>product_age_group</th>\n",
       "      <th>device_type</th>\n",
       "      <th>product_gender</th>\n",
       "      <th>product_brand</th>\n",
       "      <th>...</th>\n",
       "      <th>product_category(2)</th>\n",
       "      <th>product_category(3)</th>\n",
       "      <th>product_category(4)</th>\n",
       "      <th>product_category(5)</th>\n",
       "      <th>product_category(6)</th>\n",
       "      <th>product_category(7)</th>\n",
       "      <th>product_country</th>\n",
       "      <th>product_id</th>\n",
       "      <th>product_title</th>\n",
       "      <th>user_id</th>\n",
       "    </tr>\n",
       "  </thead>\n",
       "  <tbody>\n",
       "    <tr>\n",
       "      <th>7</th>\n",
       "      <td>1</td>\n",
       "      <td>119.00000</td>\n",
       "      <td>457035.00000</td>\n",
       "      <td>1598898651</td>\n",
       "      <td>19.00000</td>\n",
       "      <td>119.00000</td>\n",
       "      <td>0.00000</td>\n",
       "      <td>1</td>\n",
       "      <td>0.00000</td>\n",
       "      <td>852.00000</td>\n",
       "      <td>...</td>\n",
       "      <td>3.00000</td>\n",
       "      <td>15.00000</td>\n",
       "      <td>NaN</td>\n",
       "      <td>NaN</td>\n",
       "      <td>NaN</td>\n",
       "      <td>NaN</td>\n",
       "      <td>0</td>\n",
       "      <td>1354</td>\n",
       "      <td>1412.00000</td>\n",
       "      <td>2347</td>\n",
       "    </tr>\n",
       "    <tr>\n",
       "      <th>12</th>\n",
       "      <td>1</td>\n",
       "      <td>53.00000</td>\n",
       "      <td>457.00000</td>\n",
       "      <td>1598919368</td>\n",
       "      <td>3.00000</td>\n",
       "      <td>53.00000</td>\n",
       "      <td>2.00000</td>\n",
       "      <td>0</td>\n",
       "      <td>0.00000</td>\n",
       "      <td>659.00000</td>\n",
       "      <td>...</td>\n",
       "      <td>13.00000</td>\n",
       "      <td>NaN</td>\n",
       "      <td>NaN</td>\n",
       "      <td>NaN</td>\n",
       "      <td>NaN</td>\n",
       "      <td>NaN</td>\n",
       "      <td>0</td>\n",
       "      <td>2179</td>\n",
       "      <td>804.00000</td>\n",
       "      <td>1520</td>\n",
       "    </tr>\n",
       "    <tr>\n",
       "      <th>35</th>\n",
       "      <td>1</td>\n",
       "      <td>178.00000</td>\n",
       "      <td>101671.00000</td>\n",
       "      <td>1598903859</td>\n",
       "      <td>0.00000</td>\n",
       "      <td>89.00000</td>\n",
       "      <td>0.00000</td>\n",
       "      <td>1</td>\n",
       "      <td>2.00000</td>\n",
       "      <td>396.00000</td>\n",
       "      <td>...</td>\n",
       "      <td>6.00000</td>\n",
       "      <td>27.00000</td>\n",
       "      <td>NaN</td>\n",
       "      <td>NaN</td>\n",
       "      <td>NaN</td>\n",
       "      <td>NaN</td>\n",
       "      <td>0</td>\n",
       "      <td>317</td>\n",
       "      <td>1010.00000</td>\n",
       "      <td>970</td>\n",
       "    </tr>\n",
       "  </tbody>\n",
       "</table>\n",
       "<p>3 rows × 21 columns</p>\n",
       "</div>"
      ],
      "text/plain": [
       "    Sale  SalesAmountInEuro  time_delay_for_conversion  click_timestamp  \\\n",
       "7      1          119.00000               457035.00000       1598898651   \n",
       "12     1           53.00000                  457.00000       1598919368   \n",
       "35     1          178.00000               101671.00000       1598903859   \n",
       "\n",
       "    nb_clicks_1week  product_price  product_age_group  device_type  \\\n",
       "7          19.00000      119.00000            0.00000            1   \n",
       "12          3.00000       53.00000            2.00000            0   \n",
       "35          0.00000       89.00000            0.00000            1   \n",
       "\n",
       "    product_gender  product_brand  ...  product_category(2)  \\\n",
       "7          0.00000      852.00000  ...              3.00000   \n",
       "12         0.00000      659.00000  ...             13.00000   \n",
       "35         2.00000      396.00000  ...              6.00000   \n",
       "\n",
       "    product_category(3)  product_category(4)  product_category(5)  \\\n",
       "7              15.00000                  NaN                  NaN   \n",
       "12                  NaN                  NaN                  NaN   \n",
       "35             27.00000                  NaN                  NaN   \n",
       "\n",
       "    product_category(6)  product_category(7)  product_country  product_id  \\\n",
       "7                   NaN                  NaN                0        1354   \n",
       "12                  NaN                  NaN                0        2179   \n",
       "35                  NaN                  NaN                0         317   \n",
       "\n",
       "    product_title  user_id  \n",
       "7      1412.00000     2347  \n",
       "12      804.00000     1520  \n",
       "35     1010.00000      970  \n",
       "\n",
       "[3 rows x 21 columns]"
      ]
     },
     "execution_count": 6,
     "metadata": {},
     "output_type": "execute_result"
    }
   ],
   "source": [
    "df_nans_encoded = pd.DataFrame()\n",
    "encoders = {}\n",
    "\n",
    "for col in df_nans.columns:\n",
    "    if col in OBJECT_TYPE_COLUMN_NAMES:\n",
    "        encoder = LabelEncoder()\n",
    "        # filter not null values from the column\n",
    "        series_not_null = df_nans_sale_1[col][df_nans_sale_1[col].notnull()]\n",
    "        # transform the values using LabelEncoder\n",
    "        df_nans_encoded[col] = pd.Series(encoder.fit_transform(series_not_null), index=series_not_null.index)\n",
    "        # save the encoder\n",
    "        encoders[col] = encoder\n",
    "    else:\n",
    "        df_nans_encoded[col] = df_nans_sale_1[col]\n",
    "\n",
    "df_nans_encoded.head(3)"
   ]
  },
  {
   "cell_type": "markdown",
   "id": "a16c8d0d-9118-4157-b17b-650ffe1f32ed",
   "metadata": {},
   "source": [
    "## CREATE FINAL DATASET"
   ]
  },
  {
   "cell_type": "code",
   "execution_count": 7,
   "id": "6e84c950-018a-49da-8060-69d0e47919e1",
   "metadata": {},
   "outputs": [
    {
     "data": {
      "text/html": [
       "<div>\n",
       "<style scoped>\n",
       "    .dataframe tbody tr th:only-of-type {\n",
       "        vertical-align: middle;\n",
       "    }\n",
       "\n",
       "    .dataframe tbody tr th {\n",
       "        vertical-align: top;\n",
       "    }\n",
       "\n",
       "    .dataframe thead th {\n",
       "        text-align: right;\n",
       "    }\n",
       "</style>\n",
       "<table border=\"1\" class=\"dataframe\">\n",
       "  <thead>\n",
       "    <tr style=\"text-align: right;\">\n",
       "      <th></th>\n",
       "      <th>day</th>\n",
       "      <th>product_id</th>\n",
       "      <th>Sale_size</th>\n",
       "      <th>SalesAmountInEuro_sum</th>\n",
       "      <th>time_delay_for_conversion_mean</th>\n",
       "      <th>nb_clicks_1week_mean</th>\n",
       "      <th>product_price_sum</th>\n",
       "      <th>product_price_mean</th>\n",
       "      <th>product_age_group_mean</th>\n",
       "      <th>device_type_mean</th>\n",
       "      <th>...</th>\n",
       "      <th>product_category(3)_mean</th>\n",
       "      <th>product_category(4)_mean</th>\n",
       "      <th>product_category(5)_mean</th>\n",
       "      <th>product_category(6)_mean</th>\n",
       "      <th>product_category(7)_mean</th>\n",
       "      <th>product_country_mean</th>\n",
       "      <th>product_title_mean</th>\n",
       "      <th>time_delay_minutes</th>\n",
       "      <th>time_delay_hours</th>\n",
       "      <th>time_delay_days</th>\n",
       "    </tr>\n",
       "  </thead>\n",
       "  <tbody>\n",
       "    <tr>\n",
       "      <th>0</th>\n",
       "      <td>2020-08-04</td>\n",
       "      <td>1068</td>\n",
       "      <td>2</td>\n",
       "      <td>580.00000</td>\n",
       "      <td>57369.00000</td>\n",
       "      <td>0.00000</td>\n",
       "      <td>290.00000</td>\n",
       "      <td>145.00000</td>\n",
       "      <td>0.00000</td>\n",
       "      <td>0.00000</td>\n",
       "      <td>...</td>\n",
       "      <td>NaN</td>\n",
       "      <td>NaN</td>\n",
       "      <td>NaN</td>\n",
       "      <td>NaN</td>\n",
       "      <td>NaN</td>\n",
       "      <td>0</td>\n",
       "      <td>1895.00000</td>\n",
       "      <td>956.15000</td>\n",
       "      <td>15.93583</td>\n",
       "      <td>0.66399</td>\n",
       "    </tr>\n",
       "    <tr>\n",
       "      <th>1</th>\n",
       "      <td>2020-08-04</td>\n",
       "      <td>2326</td>\n",
       "      <td>2</td>\n",
       "      <td>228.00000</td>\n",
       "      <td>986.00000</td>\n",
       "      <td>0.00000</td>\n",
       "      <td>228.00000</td>\n",
       "      <td>114.00000</td>\n",
       "      <td>0.00000</td>\n",
       "      <td>1.00000</td>\n",
       "      <td>...</td>\n",
       "      <td>42.00000</td>\n",
       "      <td>NaN</td>\n",
       "      <td>NaN</td>\n",
       "      <td>NaN</td>\n",
       "      <td>NaN</td>\n",
       "      <td>0</td>\n",
       "      <td>583.00000</td>\n",
       "      <td>16.43333</td>\n",
       "      <td>0.27389</td>\n",
       "      <td>0.01141</td>\n",
       "    </tr>\n",
       "    <tr>\n",
       "      <th>2</th>\n",
       "      <td>2020-08-05</td>\n",
       "      <td>19</td>\n",
       "      <td>2</td>\n",
       "      <td>254.00000</td>\n",
       "      <td>105006.00000</td>\n",
       "      <td>3.00000</td>\n",
       "      <td>254.00000</td>\n",
       "      <td>127.00000</td>\n",
       "      <td>1.00000</td>\n",
       "      <td>0.00000</td>\n",
       "      <td>...</td>\n",
       "      <td>NaN</td>\n",
       "      <td>NaN</td>\n",
       "      <td>NaN</td>\n",
       "      <td>NaN</td>\n",
       "      <td>NaN</td>\n",
       "      <td>0</td>\n",
       "      <td>260.00000</td>\n",
       "      <td>1750.10000</td>\n",
       "      <td>29.16833</td>\n",
       "      <td>1.21535</td>\n",
       "    </tr>\n",
       "    <tr>\n",
       "      <th>3</th>\n",
       "      <td>2020-08-05</td>\n",
       "      <td>32</td>\n",
       "      <td>2</td>\n",
       "      <td>178.00000</td>\n",
       "      <td>479.00000</td>\n",
       "      <td>5.00000</td>\n",
       "      <td>178.00000</td>\n",
       "      <td>89.00000</td>\n",
       "      <td>0.00000</td>\n",
       "      <td>0.00000</td>\n",
       "      <td>...</td>\n",
       "      <td>NaN</td>\n",
       "      <td>NaN</td>\n",
       "      <td>NaN</td>\n",
       "      <td>NaN</td>\n",
       "      <td>NaN</td>\n",
       "      <td>0</td>\n",
       "      <td>1038.00000</td>\n",
       "      <td>7.98333</td>\n",
       "      <td>0.13306</td>\n",
       "      <td>0.00554</td>\n",
       "    </tr>\n",
       "    <tr>\n",
       "      <th>4</th>\n",
       "      <td>2020-08-05</td>\n",
       "      <td>132</td>\n",
       "      <td>2</td>\n",
       "      <td>194.00000</td>\n",
       "      <td>479925.00000</td>\n",
       "      <td>1.00000</td>\n",
       "      <td>194.00000</td>\n",
       "      <td>97.00000</td>\n",
       "      <td>0.00000</td>\n",
       "      <td>0.00000</td>\n",
       "      <td>...</td>\n",
       "      <td>NaN</td>\n",
       "      <td>NaN</td>\n",
       "      <td>NaN</td>\n",
       "      <td>NaN</td>\n",
       "      <td>NaN</td>\n",
       "      <td>0</td>\n",
       "      <td>211.00000</td>\n",
       "      <td>7998.75000</td>\n",
       "      <td>133.31250</td>\n",
       "      <td>5.55469</td>\n",
       "    </tr>\n",
       "    <tr>\n",
       "      <th>5</th>\n",
       "      <td>2020-08-05</td>\n",
       "      <td>580</td>\n",
       "      <td>2</td>\n",
       "      <td>380.00000</td>\n",
       "      <td>1643.00000</td>\n",
       "      <td>26.00000</td>\n",
       "      <td>380.00000</td>\n",
       "      <td>190.00000</td>\n",
       "      <td>0.00000</td>\n",
       "      <td>0.00000</td>\n",
       "      <td>...</td>\n",
       "      <td>NaN</td>\n",
       "      <td>NaN</td>\n",
       "      <td>NaN</td>\n",
       "      <td>NaN</td>\n",
       "      <td>NaN</td>\n",
       "      <td>0</td>\n",
       "      <td>357.00000</td>\n",
       "      <td>27.38333</td>\n",
       "      <td>0.45639</td>\n",
       "      <td>0.01902</td>\n",
       "    </tr>\n",
       "    <tr>\n",
       "      <th>6</th>\n",
       "      <td>2020-08-05</td>\n",
       "      <td>682</td>\n",
       "      <td>2</td>\n",
       "      <td>250.00000</td>\n",
       "      <td>424.00000</td>\n",
       "      <td>0.00000</td>\n",
       "      <td>190.00000</td>\n",
       "      <td>95.00000</td>\n",
       "      <td>0.00000</td>\n",
       "      <td>0.00000</td>\n",
       "      <td>...</td>\n",
       "      <td>NaN</td>\n",
       "      <td>NaN</td>\n",
       "      <td>NaN</td>\n",
       "      <td>NaN</td>\n",
       "      <td>NaN</td>\n",
       "      <td>0</td>\n",
       "      <td>1304.00000</td>\n",
       "      <td>7.06667</td>\n",
       "      <td>0.11778</td>\n",
       "      <td>0.00491</td>\n",
       "    </tr>\n",
       "    <tr>\n",
       "      <th>7</th>\n",
       "      <td>2020-08-05</td>\n",
       "      <td>734</td>\n",
       "      <td>2</td>\n",
       "      <td>300.00000</td>\n",
       "      <td>85069.00000</td>\n",
       "      <td>0.00000</td>\n",
       "      <td>152.00000</td>\n",
       "      <td>76.00000</td>\n",
       "      <td>0.00000</td>\n",
       "      <td>1.00000</td>\n",
       "      <td>...</td>\n",
       "      <td>15.00000</td>\n",
       "      <td>NaN</td>\n",
       "      <td>NaN</td>\n",
       "      <td>NaN</td>\n",
       "      <td>NaN</td>\n",
       "      <td>0</td>\n",
       "      <td>1328.00000</td>\n",
       "      <td>1417.81667</td>\n",
       "      <td>23.63028</td>\n",
       "      <td>0.98459</td>\n",
       "    </tr>\n",
       "  </tbody>\n",
       "</table>\n",
       "<p>8 rows × 24 columns</p>\n",
       "</div>"
      ],
      "text/plain": [
       "          day  product_id  Sale_size  SalesAmountInEuro_sum  \\\n",
       "0  2020-08-04        1068          2              580.00000   \n",
       "1  2020-08-04        2326          2              228.00000   \n",
       "2  2020-08-05          19          2              254.00000   \n",
       "3  2020-08-05          32          2              178.00000   \n",
       "4  2020-08-05         132          2              194.00000   \n",
       "5  2020-08-05         580          2              380.00000   \n",
       "6  2020-08-05         682          2              250.00000   \n",
       "7  2020-08-05         734          2              300.00000   \n",
       "\n",
       "   time_delay_for_conversion_mean  nb_clicks_1week_mean  product_price_sum  \\\n",
       "0                     57369.00000               0.00000          290.00000   \n",
       "1                       986.00000               0.00000          228.00000   \n",
       "2                    105006.00000               3.00000          254.00000   \n",
       "3                       479.00000               5.00000          178.00000   \n",
       "4                    479925.00000               1.00000          194.00000   \n",
       "5                      1643.00000              26.00000          380.00000   \n",
       "6                       424.00000               0.00000          190.00000   \n",
       "7                     85069.00000               0.00000          152.00000   \n",
       "\n",
       "   product_price_mean  product_age_group_mean  device_type_mean  ...  \\\n",
       "0           145.00000                 0.00000           0.00000  ...   \n",
       "1           114.00000                 0.00000           1.00000  ...   \n",
       "2           127.00000                 1.00000           0.00000  ...   \n",
       "3            89.00000                 0.00000           0.00000  ...   \n",
       "4            97.00000                 0.00000           0.00000  ...   \n",
       "5           190.00000                 0.00000           0.00000  ...   \n",
       "6            95.00000                 0.00000           0.00000  ...   \n",
       "7            76.00000                 0.00000           1.00000  ...   \n",
       "\n",
       "   product_category(3)_mean  product_category(4)_mean  \\\n",
       "0                       NaN                       NaN   \n",
       "1                  42.00000                       NaN   \n",
       "2                       NaN                       NaN   \n",
       "3                       NaN                       NaN   \n",
       "4                       NaN                       NaN   \n",
       "5                       NaN                       NaN   \n",
       "6                       NaN                       NaN   \n",
       "7                  15.00000                       NaN   \n",
       "\n",
       "   product_category(5)_mean  product_category(6)_mean  \\\n",
       "0                       NaN                       NaN   \n",
       "1                       NaN                       NaN   \n",
       "2                       NaN                       NaN   \n",
       "3                       NaN                       NaN   \n",
       "4                       NaN                       NaN   \n",
       "5                       NaN                       NaN   \n",
       "6                       NaN                       NaN   \n",
       "7                       NaN                       NaN   \n",
       "\n",
       "   product_category(7)_mean  product_country_mean  product_title_mean  \\\n",
       "0                       NaN                     0          1895.00000   \n",
       "1                       NaN                     0           583.00000   \n",
       "2                       NaN                     0           260.00000   \n",
       "3                       NaN                     0          1038.00000   \n",
       "4                       NaN                     0           211.00000   \n",
       "5                       NaN                     0           357.00000   \n",
       "6                       NaN                     0          1304.00000   \n",
       "7                       NaN                     0          1328.00000   \n",
       "\n",
       "   time_delay_minutes  time_delay_hours  time_delay_days  \n",
       "0           956.15000          15.93583          0.66399  \n",
       "1            16.43333           0.27389          0.01141  \n",
       "2          1750.10000          29.16833          1.21535  \n",
       "3             7.98333           0.13306          0.00554  \n",
       "4          7998.75000         133.31250          5.55469  \n",
       "5            27.38333           0.45639          0.01902  \n",
       "6             7.06667           0.11778          0.00491  \n",
       "7          1417.81667          23.63028          0.98459  \n",
       "\n",
       "[8 rows x 24 columns]"
      ]
     },
     "execution_count": 7,
     "metadata": {},
     "output_type": "execute_result"
    }
   ],
   "source": [
    "df_nans_encoded.click_timestamp = pd.to_datetime(df_nans_encoded.click_timestamp, unit='s', origin='unix')\n",
    "df_nans_encoded['day'] = df_nans_encoded.click_timestamp.dt.date\n",
    "df = df_nans_encoded.groupby(['day', 'product_id']).agg({'Sale' : 'size',\n",
    "                                                         'SalesAmountInEuro': 'sum',\n",
    "                                                         'time_delay_for_conversion': 'mean',\n",
    "                                                         'nb_clicks_1week': 'mean',\n",
    "                                                         'product_price': ['sum', 'mean'],\n",
    "                                                         'product_age_group': 'mean', \n",
    "                                                         'device_type': 'mean', \n",
    "                                                         'product_gender': 'mean',\n",
    "                                                         'product_brand': 'mean', \n",
    "                                                         'product_category(1)': 'mean', \n",
    "                                                         'product_category(2)': 'mean', \n",
    "                                                         'product_category(3)': 'mean', \n",
    "                                                         'product_category(4)': 'mean', \n",
    "                                                         'product_category(5)': 'mean', \n",
    "                                                         'product_category(6)': 'mean', \n",
    "                                                         'product_category(7)': 'mean', \n",
    "                                                         'product_country': 'mean', \n",
    "                                                         'product_title': 'mean'})\n",
    "\n",
    "df.reset_index(inplace=True)\n",
    "df.columns = ['_'.join(temp).strip('_') for temp in df.columns.to_flat_index()]\n",
    "df['time_delay_minutes'] = df.time_delay_for_conversion_mean / 60\n",
    "df['time_delay_hours'] = df.time_delay_minutes / 60\n",
    "df['time_delay_days'] = df.time_delay_hours / 24\n",
    "df.head(8)"
   ]
  },
  {
   "cell_type": "markdown",
   "id": "2a068f5c-096f-4116-a1df-fde8c75c1943",
   "metadata": {},
   "source": [
    "# 2. EXPLORATORY DATA ANALYSIS"
   ]
  },
  {
   "cell_type": "markdown",
   "id": "8265009a-aa88-4e79-b3ed-a2626b325b55",
   "metadata": {
    "tags": []
   },
   "source": [
    "This part of the notebook presents EDA performed on the FINAL DATASET created earlier.\n",
    "## Summary statistics\n",
    "First of all we will calculate statistics for column `product_price_mean`\n",
    "\n",
    "Summary statistics:\n",
    "- Mean\n",
    "- Median\n",
    "- Variance\n",
    "- Standard deviation\n",
    "- Skewness\n",
    "- Kurtosis\n",
    "- 0, 0.25, 0.5, 0.75, 1 Quantiles\n",
    "- IQR"
   ]
  },
  {
   "cell_type": "code",
   "execution_count": 10,
   "id": "b913c09f-2a57-47d0-9925-e3686c8f6b6f",
   "metadata": {},
   "outputs": [
    {
     "data": {
      "text/html": [
       "<div>\n",
       "<style scoped>\n",
       "    .dataframe tbody tr th:only-of-type {\n",
       "        vertical-align: middle;\n",
       "    }\n",
       "\n",
       "    .dataframe tbody tr th {\n",
       "        vertical-align: top;\n",
       "    }\n",
       "\n",
       "    .dataframe thead th {\n",
       "        text-align: right;\n",
       "    }\n",
       "</style>\n",
       "<table border=\"1\" class=\"dataframe\">\n",
       "  <thead>\n",
       "    <tr style=\"text-align: right;\">\n",
       "      <th></th>\n",
       "      <th>product_price_mean</th>\n",
       "    </tr>\n",
       "  </thead>\n",
       "  <tbody>\n",
       "    <tr>\n",
       "      <th>mean</th>\n",
       "      <td>374.314</td>\n",
       "    </tr>\n",
       "    <tr>\n",
       "      <th>median</th>\n",
       "      <td>220.000</td>\n",
       "    </tr>\n",
       "    <tr>\n",
       "      <th>variance</th>\n",
       "      <td>290109.162</td>\n",
       "    </tr>\n",
       "    <tr>\n",
       "      <th>std</th>\n",
       "      <td>538.618</td>\n",
       "    </tr>\n",
       "    <tr>\n",
       "      <th>skewness</th>\n",
       "      <td>7.083</td>\n",
       "    </tr>\n",
       "    <tr>\n",
       "      <th>kurtosis</th>\n",
       "      <td>86.399</td>\n",
       "    </tr>\n",
       "    <tr>\n",
       "      <th>0.0</th>\n",
       "      <td>28.000</td>\n",
       "    </tr>\n",
       "    <tr>\n",
       "      <th>0.25</th>\n",
       "      <td>138.000</td>\n",
       "    </tr>\n",
       "    <tr>\n",
       "      <th>0.5</th>\n",
       "      <td>220.000</td>\n",
       "    </tr>\n",
       "    <tr>\n",
       "      <th>0.75</th>\n",
       "      <td>410.000</td>\n",
       "    </tr>\n",
       "    <tr>\n",
       "      <th>1.0</th>\n",
       "      <td>10124.000</td>\n",
       "    </tr>\n",
       "    <tr>\n",
       "      <th>IQR</th>\n",
       "      <td>272.000</td>\n",
       "    </tr>\n",
       "  </tbody>\n",
       "</table>\n",
       "</div>"
      ],
      "text/plain": [
       "          product_price_mean\n",
       "mean                 374.314\n",
       "median               220.000\n",
       "variance          290109.162\n",
       "std                  538.618\n",
       "skewness               7.083\n",
       "kurtosis              86.399\n",
       "0.0                   28.000\n",
       "0.25                 138.000\n",
       "0.5                  220.000\n",
       "0.75                 410.000\n",
       "1.0                10124.000\n",
       "IQR                  272.000"
      ]
     },
     "execution_count": 10,
     "metadata": {},
     "output_type": "execute_result"
    }
   ],
   "source": [
    "price = df['SalesAmountInEuro_sum']\n",
    "\n",
    "summary_statistics = pd.DataFrame({\n",
    "    'product_price_mean': [price.mean(),\n",
    "                          price.median(),\n",
    "                          price.var(ddof=0),\n",
    "                          price.std(ddof=0),\n",
    "                          moment(price, 3)/(moment(price, 2)**(3/2)),\n",
    "                          moment(price, 4)/(moment(price, 2))**2,\n",
    "                           price.quantile(0),\n",
    "                          price.quantile(0.25),\n",
    "                          price.quantile(0.5),\n",
    "                          price.quantile(0.75),\n",
    "                           price.quantile(1),\n",
    "                          price.quantile(0.75) - price.quantile(0.25)]},\n",
    "    index=['mean', 'median', 'variance', 'std', 'skewness', 'kurtosis', '0.0', '0.25', '0.5', '0.75', '1.0', 'IQR'])\n",
    "\n",
    "summary_statistics"
   ]
  },
  {
   "cell_type": "markdown",
   "id": "533da2d0-e8c3-4ab7-8188-9fc7ff26d212",
   "metadata": {},
   "source": [
    "Thanks to this short summary of the most important descriptive statistics, you can see that the values are close to $ 200-300, but there are also significant outliers."
   ]
  },
  {
   "cell_type": "markdown",
   "id": "04be38e6-8ef3-4873-a408-cf5a697cb427",
   "metadata": {
    "tags": []
   },
   "source": [
    "## Frequency\n",
    "\n",
    "A frequency distribution table is an arrangement of the values that one or more variables take in a sample. Each entry in the table contains the frequency or count of the occurrences of values within a particular group or interval, and in this way, the table summarizes the distribution of values in the sample.\n",
    "\n",
    "\n",
    "The resolution series for the 'product_price_mean' column, which represents the average price for a given product on a given day, is shown below. The whole data series was divided into 25 bins and the number of values in each of them was counted. As you can see, the most values are in the first 3 bins, then the amount gradually decreases. Users are most likely to purchase iteams and products that are between `$0` and `$150` in the price range.\n",
    "\n",
    "The presented division into bins confirms what was observed in the previous point. Most of the values are close together, however there are outliers."
   ]
  },
  {
   "cell_type": "code",
   "execution_count": 11,
   "id": "b10da31c-3fd1-483e-a25a-8914f872d3d0",
   "metadata": {},
   "outputs": [
    {
     "data": {
      "text/plain": [
       "product_price_mean\n",
       "(12.974, 55.04]     722\n",
       "(55.04, 96.08]      829\n",
       "(96.08, 137.12]     474\n",
       "(137.12, 178.16]    222\n",
       "(178.16, 219.2]     139\n",
       "(219.2, 260.24]      76\n",
       "(260.24, 301.28]     59\n",
       "(301.28, 342.32]     30\n",
       "(342.32, 383.36]     33\n",
       "(383.36, 424.4]      11\n",
       "(424.4, 465.44]      11\n",
       "(465.44, 506.48]     12\n",
       "(506.48, 547.52]      2\n",
       "(547.52, 588.56]      5\n",
       "(588.56, 629.6]       5\n",
       "(629.6, 670.64]       5\n",
       "(670.64, 711.68]      3\n",
       "(711.68, 752.72]      2\n",
       "(752.72, 793.76]      1\n",
       "(793.76, 834.8]       0\n",
       "(834.8, 875.84]       0\n",
       "(875.84, 916.88]      0\n",
       "(916.88, 957.92]      0\n",
       "(957.92, 998.96]      0\n",
       "(998.96, 1040.0]      1\n",
       "dtype: int64"
      ]
     },
     "execution_count": 11,
     "metadata": {},
     "output_type": "execute_result"
    }
   ],
   "source": [
    "freq_table = df.groupby(pd.cut(df.product_price_mean, 25)).size()\n",
    "freq_table"
   ]
  },
  {
   "cell_type": "markdown",
   "id": "a76d0a5d-d25c-4191-a2c2-69bcc6f79b15",
   "metadata": {},
   "source": [
    "Thanks to this frequency table, we can observe that there is one outlier. To make further data analysis easier and more transparent (histogram), we will filter it out from the data set."
   ]
  },
  {
   "cell_type": "code",
   "execution_count": 12,
   "id": "af7f7b6e-3a42-4626-bc10-c66a80cb1160",
   "metadata": {},
   "outputs": [],
   "source": [
    "df = df.query(\"product_price_mean < 800\")"
   ]
  },
  {
   "cell_type": "markdown",
   "id": "1ec13f70-df45-4f0c-92c4-99b14c4ed15c",
   "metadata": {},
   "source": [
    "## Histogram"
   ]
  },
  {
   "cell_type": "code",
   "execution_count": 16,
   "id": "f817abd2-3d8e-470f-a999-6296263e6bfa",
   "metadata": {},
   "outputs": [
    {
     "data": {
      "image/png": "[encoded data removed]",
      "text/plain": [
       "<Figure size 1008x720 with 1 Axes>"
      ]
     },
     "metadata": {
      "needs_background": "light"
     },
     "output_type": "display_data"
    }
   ],
   "source": [
    "plt.figure(figsize=(14, 10))\n",
    "\n",
    "sns.set_context('talk')\n",
    "sns.histplot(data=df, x='product_price_mean', bins=30, hue='product_gender_mean', kde=True)\n",
    "plt.title(\"Histogram of the mean of product prices\", fontsize=25)\n",
    "plt.xlabel(\"Product Price mean\", fontsize=15)\n",
    "plt.ylabel(\"Count\", fontsize=15)\n",
    "plt.show()"
   ]
  },
  {
   "cell_type": "markdown",
   "id": "c825bf99-b181-4ef6-a8a3-8e35fb7695a7",
   "metadata": {},
   "source": [
    "The above histogram shows the distribution of the quantity of average product prices divided by the sex of the person making the purchase (hue). We can observe that the graph looks similar for each group. Regardless of gender, most values are in the `$ 0` - `$ 150` range. Users are reluctant to buy more expensive products. As the price increases, the number of values belonging to each bin decreases."
   ]
  },
  {
   "cell_type": "markdown",
   "id": "d797e664-7551-404a-aa4b-22f9b6c004ec",
   "metadata": {},
   "source": [
    "## Box plot"
   ]
  },
  {
   "cell_type": "code",
   "execution_count": 17,
   "id": "6afcb4d3-5af1-46f4-b0e7-b473f925f56d",
   "metadata": {},
   "outputs": [
    {
     "data": {
      "image/png": "[encoded data removed]",
      "text/plain": [
       "<Figure size 1008x720 with 1 Axes>"
      ]
     },
     "metadata": {
      "needs_background": "light"
     },
     "output_type": "display_data"
    }
   ],
   "source": [
    "plt.figure(figsize=(14, 10))\n",
    "\n",
    "sns.set_context(\"talk\")\n",
    "sns.boxplot(x='product_age_group_mean', y='time_delay_days', data=df)\n",
    "plt.title(\"Time delay to purchase in days in age groups\", fontsize=25)\n",
    "plt.xlabel(\"Age groups\", fontsize=15)\n",
    "plt.ylabel(\"Time delay in days\", fontsize=15)\n",
    "plt.show()"
   ]
  },
  {
   "cell_type": "markdown",
   "id": "7023b35d-abb7-4323-8e80-876dd8780144",
   "metadata": {},
   "source": [
    "The above box chart shows the time between clicking on the ad and becoming a customer in the store by purchasing the product. Time is expressed in days. For four of the five groups, the median waiting time is approximately less than a day. For groups no. 0 and no. 1, a lot of outliers can be observed. The group no.3 differs most from the other groups, for which the median of this value is almost 15 days, and also the 1st and 3rd quartiles are significantly different from the other observed groups.\n",
    "\n",
    "\n",
    "Thanks to this chart, it can be concluded that people from group 3 make purchases more responsibly than the rest - they spend more time checking the product and do not make purchases on the spur of the moment.\n",
    "\n",
    "It is also worth checking how many people belong to each group. For this we will use a bar chart."
   ]
  },
  {
   "cell_type": "code",
   "execution_count": 18,
   "id": "6cdeabcb-d0ec-4b14-8049-43c25654c5b7",
   "metadata": {},
   "outputs": [
    {
     "data": {
      "image/png": "[encoded data removed]",
      "text/plain": [
       "<Figure size 1008x720 with 1 Axes>"
      ]
     },
     "metadata": {
      "needs_background": "light"
     },
     "output_type": "display_data"
    }
   ],
   "source": [
    "plt.figure(figsize=(14, 10))\n",
    "\n",
    "sns.set_context(\"talk\")\n",
    "sns.countplot(x='product_age_group_mean', data=df)\n",
    "plt.title(\"Count of people in each of age groups\", fontsize=25)\n",
    "plt.xlabel(\"Age groups\", fontsize=15)\n",
    "plt.ylabel(\"Count\", fontsize=15)\n",
    "plt.show()"
   ]
  },
  {
   "cell_type": "markdown",
   "id": "c9e20230-c343-4c1c-a9cc-3ad4a71b32a5",
   "metadata": {},
   "source": [
    "The bar chart presented above slightly changes the perception of the previous plot - the box plot. It turns out that comparing delay times in different age groups may be a bit unreliable due to the large difference in the number of people in each group. Definitely most people belong to the zero group, and the least to the third group. This may be one of the reasons for the previously observed differences in time between clicking and becoming a customer."
   ]
  },
  {
   "cell_type": "markdown",
   "id": "96485605-81df-4449-b7f6-21e26499aae5",
   "metadata": {},
   "source": [
    "# 3. TESTING HYPOTHESES"
   ]
  },
  {
   "cell_type": "code",
   "execution_count": null,
   "id": "7ffe5a16-9683-41ac-83d1-761f9f0fad75",
   "metadata": {},
   "outputs": [],
   "source": [
    "plt.figure(figsize=(14, 10))\n",
    "\n",
    "sns.set_context(\"talk\")\n",
    "sns.scatterplot(x='time_delay_days', y='product_price_mean', data=df)\n",
    "plt.title(\"Count of people in each of age groups\", fontsize=25)\n",
    "plt.xlabel(\"Age groups\", fontsize=15)\n",
    "plt.ylabel(\"Count\", fontsize=15)\n",
    "plt.show()"
   ]
  },
  {
   "cell_type": "markdown",
   "id": "b263e2a4-3598-4f70-a401-6b99a72b064b",
   "metadata": {},
   "source": [
    "# 4. FEATURE ENGINEERING"
   ]
  },
  {
   "cell_type": "markdown",
   "id": "7255bef8-d314-402c-a99f-da0ab7a0520f",
   "metadata": {},
   "source": [
    "# 5. STATISTICAL TESTING OF DESCRIBING FEATURES"
   ]
  },
  {
   "cell_type": "markdown",
   "id": "3a4953ad-32f4-4f81-8688-76cf50866f29",
   "metadata": {},
   "source": [
    "# 6. COMPETITION METRIC"
   ]
  },
  {
   "cell_type": "markdown",
   "id": "3efd951d-ae88-419c-8346-17f818e21fc5",
   "metadata": {},
   "source": [
    "# 7. SUMMARY"
   ]
  },
  {
   "cell_type": "markdown",
   "id": "d6c8f34b-3b44-4dc9-b725-3ab5c2f86714",
   "metadata": {},
   "source": [
    "# 8. LITERATURE\n",
    "\n",
    "1. https://en.wikipedia.org/wiki/Frequency_(statistics)\n",
    "2. https://en.wikipedia.org/wiki/Exploratory_data_analysis\n",
    "3. https://en.wikipedia.org/wiki/Summary_statistics"
   ]
  },
  {
   "cell_type": "code",
   "execution_count": null,
   "id": "1fc40feb-eb93-4e25-9904-3c0b3e7148d0",
   "metadata": {},
   "outputs": [],
   "source": []
  }
 ],
 "metadata": {
  "kernelspec": {
   "display_name": "Python 3 (ipykernel)",
   "language": "python",
   "name": "python3"
  },
  "language_info": {
   "codemirror_mode": {
    "name": "ipython",
    "version": 3
   },
   "file_extension": ".py",
   "mimetype": "text/x-python",
   "name": "python",
   "nbconvert_exporter": "python",
   "pygments_lexer": "ipython3",
   "version": "3.8.5"
  }
 },
 "nbformat": 4,
 "nbformat_minor": 5
}
